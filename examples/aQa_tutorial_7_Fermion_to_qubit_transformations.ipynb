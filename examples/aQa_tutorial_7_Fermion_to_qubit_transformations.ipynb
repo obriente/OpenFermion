{
 "cells": [
  {
   "cell_type": "markdown",
   "metadata": {},
   "source": [
    "# Fermion to qubit transformations\n",
    "\n",
    "In this tutorial you will learn more about fermion to qubit transformations, including how to apply those already implemented in openfermion, and try your hand at constructing your own!\n",
    "\n",
    "1. Fermions and Qubits\n",
    "    1. Fermionic states\n",
    "    1. Fermionic operators and commutation relations\n",
    "1. The Jordan-Wigner transform\n",
    "    1. Jordan-Wigner transformation in OpenFermion\n",
    "    1. Locality scaling under Jordan-Wigner\n",
    "    1. Quadratic and quartic operator transforms\n",
    "1. The Bravyi-Kitaev transform\n",
    "    1. Occupation number and parity representations\n",
    "    1. The transformation\n",
    "    1. Locality scaling\n",
    "1. The JKMN transform\n",
    "    1. Majorana representation of Fermionic operators\n",
    "    1. The ternary tree construction\n",
    "    1. Locality scaling\n",
    "1. Final notes and caveats\n",
    "    1. Geometric locality: another point of view\n",
    "    1. Ancillas to go \"beyond optimal\" scaling"
   ]
  },
  {
   "cell_type": "markdown",
   "metadata": {},
   "source": [
    "# Fermions and Qubits"
   ]
  },
  {
   "cell_type": "markdown",
   "metadata": {},
   "source": [
    "#### Fermionic states\n",
    "\n",
    "As we saw during the lecture, states of a second-quantized fermionic system can be connected quite naturally to states of a qubit register.\n",
    "In a fermionic system with $n$ modes (i.e. sites or orbitals), each mode can be either empty or filled, giving rise to $2^n$ basis states. These take the form $\\vert f_0, f_1, ..., f_n\\rangle$, with $f_j\\in\\{0 : \\mathrm{empty}, 1 : \\mathrm{filled}\\}$.\n",
    "The filling state of each mode can be represented by a qubit.\n",
    "OpenFermion takes the following convention in representing the state of a Fermionic Mode:\n",
    "- empty state : $\\begin{pmatrix}1 \\\\ 0\\end{pmatrix}$ &mdash; same representation as the $\\vert0\\rangle$ qubit state,\n",
    "- filled state : $\\begin{pmatrix}0 \\\\ 1\\end{pmatrix}$ &mdash; same representation as the $\\vert1\\rangle$ qubit state.\n",
    "\n",
    "The vector representation of multi-mode fermionic states is built from the single-mode states with kronecker products, the same way as for multi-qubit systems.\n",
    "\n",
    "#### Fermionic operators and commutation relations\n",
    "\n",
    "Under this convention, the **single-mode** creation and annihilation operators act like simple raising and lowering matrices on these vectors:"
   ]
  },
  {
   "cell_type": "code",
   "execution_count": 43,
   "metadata": {
    "ExecuteTime": {
     "end_time": "2020-04-16T12:59:41.099337Z",
     "start_time": "2020-04-16T12:59:41.089363Z"
    }
   },
   "outputs": [
    {
     "name": "stdout",
     "output_type": "stream",
     "text": [
      "creation operator:\n",
      " [[0.+0.j 0.+0.j]\n",
      " [1.+0.j 0.+0.j]] \n",
      "\n",
      "annihilation operator:\n",
      " [[0.+0.j 1.+0.j]\n",
      " [0.+0.j 0.+0.j]]\n"
     ]
    }
   ],
   "source": [
    "from openfermion import FermionOperator, get_sparse_operator\n",
    "\n",
    "creation = FermionOperator('0^')\n",
    "annihilation = FermionOperator('0')\n",
    "\n",
    "print('creation operator:\\n', get_sparse_operator(creation).A, '\\n')\n",
    "print('annihilation operator:\\n', get_sparse_operator(annihilation).A)"
   ]
  },
  {
   "cell_type": "markdown",
   "metadata": {
    "ExecuteTime": {
     "end_time": "2020-04-08T16:24:00.886227Z",
     "start_time": "2020-04-08T16:24:00.881637Z"
    }
   },
   "source": [
    "Such $2 \\times 2$ matrices can easily be constructed by linear combinations of Pauli matrices.\n",
    "$$\n",
    "   c^\\dagger \\to \\frac{\\sigma_x - i \\sigma_y}{2} \n",
    "   \\quad , \\qquad \n",
    "   c \\to \\frac{\\sigma_x + i \\sigma_y}{2}\n",
    "$$\n",
    "\n",
    "Unfortunately, constructing the representation of fermionic operators in a **multi-mode** system is more complicated than taking a kronecker product of such matrices.\n",
    "This is because fermionic operators acting on different modes **anticommute**, while qubit operators acting on different qubits **commute**.\n",
    "\n",
    "**Exercise 1:** Construct the QubitOperators corresponding to the single-mode $c$ and $c^\\dagger$ and verify their commutation relations. "
   ]
  },
  {
   "cell_type": "code",
   "execution_count": 1,
   "metadata": {
    "ExecuteTime": {
     "end_time": "2020-04-17T14:12:24.353199Z",
     "start_time": "2020-04-17T14:12:23.583531Z"
    }
   },
   "outputs": [
    {
     "name": "stdout",
     "output_type": "stream",
     "text": [
      "com  :  (1+0j) [Z0]\n",
      "acom :  (1+0j) []\n"
     ]
    }
   ],
   "source": [
    "from openfermion import QubitOperator\n",
    "def com(A, B):  return A*B - B*A\n",
    "def acom(A, B): return A*B + B*A\n",
    "\n",
    "c    = QubitOperator('X0', 0.5) + QubitOperator('Y0', 0.5j) \n",
    "cdag = QubitOperator('X0', 0.5) + QubitOperator('Y0', -0.5j) \n",
    "\n",
    "print('com  : ',  com(c, cdag))\n",
    "print('acom : ', acom(c, cdag))"
   ]
  },
  {
   "cell_type": "markdown",
   "metadata": {
    "ExecuteTime": {
     "end_time": "2020-04-08T16:24:00.886227Z",
     "start_time": "2020-04-08T16:24:00.881637Z"
    }
   },
   "source": [
    "**Exercise 2:** Convince yourself that QubitOperators acting on different qubits commute, while fermionic creation/annihilation operators on different modes *anti*commute."
   ]
  },
  {
   "cell_type": "markdown",
   "metadata": {},
   "source": [
    "# The Jordan-WIgner transform\n",
    "\n",
    "The Jordan-Wigner transformation is arguably the simplest method to map fermionic operators to qubit operators while conserving commutation relations.\n",
    "\n",
    "To reconstruct the correct commutation relations, the Jordan-Wigner transformation attaches to each fermionic operator at site $k$ a sign $\\{+, -\\}$, depending on the **parity** of the number of fermions in the first $k-1$ modes: $P(k) = (-1)^{\\sum_{j=0}^{k-1} f_j}$. \n",
    "A creation (or annihilation) operator $c^\\dagger_j$ changing the state of a $f_j$, will also change the parity $P(k)$ for $k>j$. This changes the sign carried over by any operator on the mode $k$ applied **after** $c^\\dagger_j$, making the overall sign depend on the order of operators.\n",
    "\n",
    "For the separable basis states $\\vert f_0\\rangle \\otimes \\vert f_1\\rangle \\otimes ... \\otimes  \\vert f_n\\rangle$ the action of the creation operator is defined as\n",
    "$$\n",
    "    c^\\dagger_k \\vert f_0\\rangle \\otimes ... \\otimes \\vert f_k \\rangle \\otimes ... \\otimes  \\vert f_n\\rangle =\n",
    "    (-1)^{\\sum_{j=0}^{k-1} f_j} \\vert f_0\\rangle \\otimes ... \\otimes \\left(c^\\dagger_k \\vert f_k \\rangle\\right) \\otimes ... \\otimes  \\vert f_n\\rangle,\n",
    "$$\n",
    "where the action of $\\left(c^\\dagger_k \\vert f_k \\rangle\\right)$ is the one defined above for the single mode.\n",
    "Defining the action on basis states is enough to describe an operator (extending to other states by linearity).\n",
    "\n",
    "The parity $P(k)$ can be calculated by a string of Pauli Z operators $Z_0\\,Z_1\\,...\\,Z_{k-1}$ (called Jordan-Wigner string), as each $Z_j$ takes the value $-1$ when a state is filled $\\vert f_j=1 \\rangle$ and $+1$ otherwise.\n",
    "This brings us to the definition of the Jordan-Wigner transform:\n",
    "\\begin{equation}\n",
    "    c^\\dagger_k \\to Z_0\\,...\\,Z_{k-1} \\frac{X_k - i Y_k}{2} \\\\\n",
    "    c_k         \\to Z_0\\,...\\,Z_{k-1} \\frac{X_k + i Y_k}{2} \n",
    "    \\label{eq:JW} \\tag{1}\n",
    "\\end{equation}\n",
    "\n",
    "\n",
    "### Jordan-Wigner transformation in OpenFermion\n",
    "\n",
    "Fermion to qubit transformations are core elements of OpenFermion. They can be found in the module `openfermion.transforms`. Let's have a look at the `jordan_wigner` function:"
   ]
  },
  {
   "cell_type": "code",
   "execution_count": 1,
   "metadata": {
    "ExecuteTime": {
     "end_time": "2020-04-16T13:13:47.781358Z",
     "start_time": "2020-04-16T13:13:47.401672Z"
    }
   },
   "outputs": [
    {
     "name": "stdout",
     "output_type": "stream",
     "text": [
      "Help on function jordan_wigner in module openfermion.transforms._jordan_wigner:\n",
      "\n",
      "jordan_wigner(operator)\n",
      "    Apply the Jordan-Wigner transform to a FermionOperator,\n",
      "    InteractionOperator, or DiagonalCoulombHamiltonian to convert\n",
      "    to a QubitOperator.\n",
      "    \n",
      "    Operators are mapped as follows:\n",
      "    a_j^\\dagger -> Z_0 .. Z_{j-1} (X_j - iY_j) / 2\n",
      "    a_j -> Z_0 .. Z_{j-1} (X_j + iY_j) / 2\n",
      "    \n",
      "    Returns:\n",
      "        transformed_operator: An instance of the QubitOperator class.\n",
      "    \n",
      "    Warning:\n",
      "        The runtime of this method is exponential in the maximum locality\n",
      "        of the original FermionOperator.\n",
      "    \n",
      "    Raises:\n",
      "        TypeError: Operator must be a FermionOperator,\n",
      "            DiagonalCoulombHamiltonian, or InteractionOperator.\n",
      "\n"
     ]
    }
   ],
   "source": [
    "from openfermion.transforms import jordan_wigner\n",
    "help(jordan_wigner)"
   ]
  },
  {
   "cell_type": "markdown",
   "metadata": {},
   "source": [
    "**Exercise 3:** construct the the QubitOperators corresponding to fermionic creation and annihilation operators under Jordan-Wigner transform, and verify they satisfy fermionic commutation relations. (you can compare with exercise 3 of the \"Introduction to OpenFermion\" tutorial)"
   ]
  },
  {
   "cell_type": "code",
   "execution_count": 48,
   "metadata": {
    "ExecuteTime": {
     "end_time": "2020-04-16T13:28:36.717681Z",
     "start_time": "2020-04-16T13:28:36.661316Z"
    }
   },
   "outputs": [
    {
     "name": "stdout",
     "output_type": "stream",
     "text": [
      "acom(1.0 [0] , 1.0 [0^]) = 1.0 []\n",
      "acom after JW transform  : (1+0j) []\n",
      "\n",
      "acom(1.0 [0] , 1.0 [1] ) = 0\n",
      "acom after JW transform  : 0\n",
      "\n",
      "acom(1.0 [0] , 1.0 [1^]) = 0\n",
      "acom after JW transform  : 0\n",
      "\n",
      "acom(1.0 [0] , 1.0 [2] ) = 0\n",
      "acom after JW transform  : 0\n",
      "\n",
      "acom(1.0 [0] , 1.0 [2^]) = 0\n",
      "acom after JW transform  : 0\n",
      "\n",
      "acom(1.0 [0^], 1.0 [1] ) = 0\n",
      "acom after JW transform  : 0\n",
      "\n",
      "acom(1.0 [0^], 1.0 [1^]) = 0\n",
      "acom after JW transform  : 0\n",
      "\n",
      "acom(1.0 [0^], 1.0 [2] ) = 0\n",
      "acom after JW transform  : 0\n",
      "\n",
      "acom(1.0 [0^], 1.0 [2^]) = 0\n",
      "acom after JW transform  : 0\n",
      "\n",
      "acom(1.0 [1] , 1.0 [1^]) = 1.0 []\n",
      "acom after JW transform  : (1+0j) []\n",
      "\n",
      "acom(1.0 [1] , 1.0 [2] ) = 0\n",
      "acom after JW transform  : 0\n",
      "\n",
      "acom(1.0 [1] , 1.0 [2^]) = 0\n",
      "acom after JW transform  : 0\n",
      "\n",
      "acom(1.0 [1^], 1.0 [2] ) = 0\n",
      "acom after JW transform  : 0\n",
      "\n",
      "acom(1.0 [1^], 1.0 [2^]) = 0\n",
      "acom after JW transform  : 0\n",
      "\n",
      "acom(1.0 [2] , 1.0 [2^]) = 1.0 []\n",
      "acom after JW transform  : (1+0j) []\n",
      "\n"
     ]
    }
   ],
   "source": [
    "from openfermion import FermionOperator, normal_ordered\n",
    "from itertools import combinations\n",
    "from _jkmn import inline\n",
    "\n",
    "n = 3\n",
    "fops = []\n",
    "for idx in range(n):\n",
    "    fops.append( FermionOperator((idx, 0),) )\n",
    "    fops.append( FermionOperator((idx, 1),) )\n",
    "\n",
    "for A, B in combinations(fops, 2):\n",
    "    print(f'acom({str(A):8}, {str(B):8}) =', normal_ordered(acom(A, B)))\n",
    "    print('acom after JW transform  :', acom(jordan_wigner(A), jordan_wigner(B)))\n",
    "    print()"
   ]
  },
  {
   "cell_type": "markdown",
   "metadata": {},
   "source": [
    "### Locality scaling under Jordan-Wigner\n",
    "\n",
    "We define **locality** (or many-body order) of an operator the maximum number of modes or of qubits on which the operator acts non-trivially at the same time. In openfermion we can access this value by the `many_body_order()` method of the FermionOperator and QubitOperator classes.\n",
    "We say an operator is **k-local** if its locality is at most $k$.\n",
    "\n",
    "The Jordan-Wigner maps a FermionOperator acting on a single mode (1-local) to a QubitOperator acting on many qubits. In fact, every $c_k$ acts nontrivially on the first $k$ qubits (k-local).\n",
    "\n",
    "**Exercise 4:** compute the average locality of all Jordan-Wigner transformed single-qubit operators in a n-mode system. Verify that this result is what you would expect."
   ]
  },
  {
   "cell_type": "code",
   "execution_count": 127,
   "metadata": {
    "ExecuteTime": {
     "end_time": "2020-04-15T11:59:13.518928Z",
     "start_time": "2020-04-15T11:59:13.510287Z"
    },
    "scrolled": true
   },
   "outputs": [
    {
     "name": "stdout",
     "output_type": "stream",
     "text": [
      "N -> avg locality\n",
      "2 -> 1.5\n",
      "3 -> 2.0\n",
      "4 -> 2.5\n",
      "5 -> 3.0\n",
      "6 -> 3.5\n",
      "7 -> 4.0\n",
      "8 -> 4.5\n",
      "9 -> 5.0\n"
     ]
    }
   ],
   "source": [
    "from openfermion import FermionOperator\n",
    "\n",
    "print('N -> avg locality')\n",
    "for N in range(2, 10):\n",
    "    print(N, '->', \n",
    "          np.average(list(jordan_wigner(FermionOperator(str(i))).many_body_order() \n",
    "                          for i in range(N)))\n",
    "         )"
   ]
  },
  {
   "cell_type": "markdown",
   "metadata": {},
   "source": [
    "Wehat you just verified shows that Jordan-Wigner transform does not preserve locality. A generic $k-$local fermionic operator will be transformed into a qubit operator which locality depends on the system size. \n",
    "This is a general property of fermion to qubit transformations, and gives rise to one of the major challenges in simulating fermionic problems on a quantum computer.\n",
    "When simulating the evolution of a system, this implies we will need to implement operations on a number of qubits that gets larger with increasing system size.\n",
    "\n",
    "### Quadratic and quartic operator transforms \n",
    "\n",
    "Hamiltonians relevant for the electronic structure problem consist of terms that are quadratic (i.e. 2-local: site energies and hoppings) and quartic (i.e. 4-local: Coulomb interactions). These can all be written in normal-ordered form:\n",
    "- $ c^\\dagger_i c_j \\quad \\forall \\, i, j $\n",
    "- $ c^\\dagger_i c^\\dagger_j c_k c_l \\quad \\forall \\, i>j; k>l $\n",
    "\n",
    "**Exercise 5:** construct all quadratic particle-conserving operator terms for an $n$-mode fermionic system, transform them with Jordan-Wigner and calculate the average locality of the resulting QubitOperator. Do the same for quartic operators. Plot the results and infer the scaling of the average locality with the system size $n$."
   ]
  },
  {
   "cell_type": "code",
   "execution_count": 131,
   "metadata": {
    "ExecuteTime": {
     "end_time": "2020-04-16T15:23:27.807764Z",
     "start_time": "2020-04-16T15:23:27.798528Z"
    },
    "code_folding": []
   },
   "outputs": [],
   "source": [
    "def single_avg_loc(n):\n",
    "    fops = (FermionOperator(f'{i}') for i in range(n)) # generator\n",
    "    qops = (jordan_wigner(fop) for fop in fops) # generator\n",
    "    localities = list(qop.many_body_order() for qop in qops)\n",
    "    return np.average(localities)\n",
    "\n",
    "def quadratic_avg_loc(n):\n",
    "    fops = (FermionOperator(f'{i}^ {j}') for i in range(n) for j in range(n)) # generator\n",
    "    qops = (jordan_wigner(fop) for fop in fops) # generator\n",
    "    localities = list(qop.many_body_order() for qop in qops)\n",
    "    return np.average(localities)\n",
    "\n",
    "def quartic_avg_loc(n):\n",
    "    fops = (FermionOperator(f'{i}^ {j}^ {k} {l}') \n",
    "            for i in range(n) for j in range(i) for k in range(n) for l in range(k)\n",
    "           ) # generator\n",
    "    qops = (jordan_wigner(fop) for fop in fops) # generator\n",
    "    localities = list(qop.many_body_order() for qop in qops)\n",
    "    return np.average(localities)"
   ]
  },
  {
   "cell_type": "code",
   "execution_count": 132,
   "metadata": {
    "ExecuteTime": {
     "end_time": "2020-04-16T15:23:28.664476Z",
     "start_time": "2020-04-16T15:23:28.661678Z"
    }
   },
   "outputs": [],
   "source": [
    "import matplotlib.pyplot as plt"
   ]
  },
  {
   "cell_type": "code",
   "execution_count": 133,
   "metadata": {
    "ExecuteTime": {
     "end_time": "2020-04-16T15:24:36.675631Z",
     "start_time": "2020-04-16T15:23:29.678658Z"
    }
   },
   "outputs": [],
   "source": [
    "n_list = np.arange(2, 20)\n",
    "\n",
    "single_locs_jw = list(single_avg_loc(n) for n in n_list)\n",
    "quadratic_locs_jw = list(quadratic_avg_loc(n) for n in n_list)\n",
    "quartic_locs_jw = list(quartic_avg_loc(n) for n in n_list)"
   ]
  },
  {
   "cell_type": "code",
   "execution_count": 134,
   "metadata": {
    "ExecuteTime": {
     "end_time": "2020-04-16T15:24:36.877493Z",
     "start_time": "2020-04-16T15:24:36.702482Z"
    }
   },
   "outputs": [
    {
     "data": {
      "image/png": "[encoded data removed]",
      "text/plain": [
       "<Figure size 432x288 with 1 Axes>"
      ]
     },
     "metadata": {
      "needs_background": "light"
     },
     "output_type": "display_data"
    }
   ],
   "source": [
    "plt.plot(n_list, single_locs_jw, label='single')\n",
    "plt.plot(n_list, quadratic_locs_jw, label='quadratic')\n",
    "plt.plot(n_list, quartic_locs_jw, label='quartic')\n",
    "plt.legend()\n",
    "plt.ylabel('avg locality')\n",
    "plt.xlabel('n')\n",
    "plt.grid()\n",
    "plt.show()"
   ]
  },
  {
   "cell_type": "markdown",
   "metadata": {},
   "source": [
    "### Geometric locality under Jordan-Wigner\n",
    "\n",
    "Another relevant concept in physics is **geometric locality** (not to be confused with k-locality, defined earlier!).\n",
    "Most phyisical systems live in a $d$-dimensional space (with $d\\leq3$), where particles interact mostly or only with neighboring ones. \n",
    "Typical examples of fermionic systems with geometrically local interactions are electrons in crystal lattices.\n",
    "Geometrically-local systems can typically be represented on a lattice, with nearest-neighbor interactions  (or extensions thereof).\n",
    "\n",
    "The Jordan-Wigner transformation lets us exploit geometric locality of lattices to our advantage. \n",
    "If the $Z$ operator Jordan-Wigner strings of two operators $c^\\dagger_j$ and $c_k$ largely overlap, they will square and cancel in the quadratic operator $c^\\dagger_j c_k$ (similar for quartic operators, where there are two couples of fermionic operators to consider).\n",
    "In a lattice, only a specific set of $c^\\dagger_j c_k$ are allowed: the ones for which $j$ and $k$ index neighboring sites.\n",
    "Indexing sites following the geometric structure of the lattice, lets us reduce the many-body order of the resulting QubitOperators.\n",
    "\n",
    "**Exercise 6:** \n",
    "Construct all hopping operators $c^\\dagger_j c_{j\\pm1}$ in a fermionic $d=1$ lattice (a chain) with $n$ sites. \n",
    "Verify that the many-body order of the Jordan-Wigner transformed operator is constant. \n",
    "Now reshuffle the indices by a random permutation $j\\to\\alpha(j)$ (hoppings will now be $c^\\dagger_{\\alpha(j)}, c_{\\alpha(j\\pm1)}$ and verify you recover the linear scaling of locality of the transormed operator with $n$."
   ]
  },
  {
   "cell_type": "code",
   "execution_count": 151,
   "metadata": {
    "ExecuteTime": {
     "end_time": "2020-04-16T15:30:44.641382Z",
     "start_time": "2020-04-16T15:30:44.623560Z"
    }
   },
   "outputs": [
    {
     "name": "stdout",
     "output_type": "stream",
     "text": [
      "N -> avg locality\n",
      "2 -> 2.0\n",
      "3 -> 2.0\n",
      "4 -> 2.0\n",
      "5 -> 2.0\n",
      "6 -> 2.0\n",
      "7 -> 2.0\n",
      "8 -> 2.0\n",
      "9 -> 2.0\n"
     ]
    }
   ],
   "source": [
    "from openfermion import FermionOperator, jordan_wigner\n",
    "\n",
    "def avg_loc_jw_chain(n):\n",
    "    hopping_fops = ([FermionOperator(f'{idx}^ {idx+1}')  for idx in range(n-1)] +\n",
    "                    [FermionOperator(f'{idx} {idx+1}^')  for idx in range(n-1)] )\n",
    "    hopping_qops = [jordan_wigner(fop) for fop in hopping_fops]\n",
    "    localities = [qop.many_body_order() for qop in hopping_qops ]\n",
    "    return np.average(localities)\n",
    "\n",
    "print('N -> avg locality')\n",
    "for n in range(2, 10):\n",
    "    print(n, '->', avg_loc_jw_chain(n))"
   ]
  },
  {
   "cell_type": "code",
   "execution_count": 164,
   "metadata": {
    "ExecuteTime": {
     "end_time": "2020-04-16T15:36:59.882979Z",
     "start_time": "2020-04-16T15:36:58.399335Z"
    }
   },
   "outputs": [
    {
     "data": {
      "image/png": "[encoded data removed]",
      "text/plain": [
       "<Figure size 432x288 with 1 Axes>"
      ]
     },
     "metadata": {
      "needs_background": "light"
     },
     "output_type": "display_data"
    }
   ],
   "source": [
    "from numpy.random import permutation\n",
    "\n",
    "def avg_loc_jw_chain(n):\n",
    "    perm = permutation(n)\n",
    "    hopping_fops = ([FermionOperator(f'{perm[idx]}^ {perm[idx+1]}')  for idx in range(n-1)] +\n",
    "                    [FermionOperator(f'{perm[idx]} {perm[idx+1]}^')  for idx in range(n-1)] )\n",
    "    hopping_qops = [jordan_wigner(fop) for fop in hopping_fops]\n",
    "    localities = [qop.many_body_order() for qop in hopping_qops]\n",
    "    return np.average(localities)\n",
    "\n",
    "sample_number=20\n",
    "\n",
    "n_list = np.arange(2, 20)\n",
    "avgs = []\n",
    "stds = []\n",
    "for n in n_list:\n",
    "    samples = [avg_loc_jw_chain(n) for _ in range(sample_number)]\n",
    "    avgs.append(np.average(samples))\n",
    "    stds.append(np.std(samples))\n",
    "\n",
    "plt.errorbar(n_list, avgs, yerr=stds)\n",
    "plt.grid()\n",
    "plt.show()"
   ]
  },
  {
   "cell_type": "markdown",
   "metadata": {},
   "source": [
    "**Exercise 7:** \n",
    "Use the function below to generate all quadratic operators in a nearest-neighbor square lattice of side length $L$. Compute the average locality of the transformed operator as a function of the system size $L^2$, how does it scale? Think of how can you intepret the result."
   ]
  },
  {
   "cell_type": "code",
   "execution_count": 79,
   "metadata": {
    "ExecuteTime": {
     "end_time": "2020-04-16T13:48:26.087448Z",
     "start_time": "2020-04-16T13:48:25.479278Z"
    }
   },
   "outputs": [
    {
     "name": "stdout",
     "output_type": "stream",
     "text": [
      " L |  n  | avg locality\n",
      " 1 |  1  | 1.0\n",
      " 2 |  4  | 2.0\n",
      " 3 |  9  | 2.4545454545454546\n",
      " 4 | 16  | 2.875\n",
      " 5 | 25  | 3.2857142857142856\n",
      " 6 | 36  | 3.6923076923076925\n",
      " 7 | 49  | 4.096774193548387\n",
      " 8 | 64  | 4.5\n",
      " 9 | 81  | 4.902439024390244\n"
     ]
    }
   ],
   "source": [
    "def square_lattice_quadratic(L):\n",
    "    from openfermion.hamiltonians import fermi_hubbard\n",
    "    return fermi_hubbard(x_dimension=L,\n",
    "                         y_dimension=L,\n",
    "                         tunneling = -1.0, # hoppings (quadratic)\n",
    "                         coulomb = 0.0, # electrostatic interaction: change to 1.0 to get quartic terms\n",
    "                         chemical_potential = -1.0, # on-site energy (quadratic)\n",
    "                         periodic = False, # open boundary conditions\n",
    "                         spinless = True # one fermion per site\n",
    "                        ).get_operators() # returns a generator of all (quadratic) terms\n",
    "\n",
    "def avg_loc_jw_square(L):\n",
    "    fops = square_lattice_quadratic(L)\n",
    "    qops = [jordan_wigner(fop) for fop in fops]\n",
    "    localities = [qop.many_body_order() for qop in qops ]\n",
    "    return np.average(localities)\n",
    "\n",
    "print(' L |  n  | avg locality')\n",
    "for L in range(1, 10):\n",
    "    print(f'{L:2} |{L**2:^5}|', avg_loc_jw_square(L))"
   ]
  },
  {
   "cell_type": "code",
   "execution_count": 73,
   "metadata": {
    "ExecuteTime": {
     "end_time": "2020-04-16T13:45:30.654956Z",
     "start_time": "2020-04-16T13:45:30.652051Z"
    }
   },
   "outputs": [],
   "source": [
    "import matplotlib.pyplot as plt"
   ]
  },
  {
   "cell_type": "code",
   "execution_count": 91,
   "metadata": {
    "ExecuteTime": {
     "end_time": "2020-04-16T14:51:23.920537Z",
     "start_time": "2020-04-16T14:51:23.203193Z"
    }
   },
   "outputs": [
    {
     "data": {
      "image/png": "[encoded data removed]",
      "text/plain": [
       "<Figure size 432x288 with 1 Axes>"
      ]
     },
     "metadata": {
      "needs_background": "light"
     },
     "output_type": "display_data"
    }
   ],
   "source": [
    "L_list = np.arange(1, 10)\n",
    "loc_list = [avg_loc_jw_square(int(L)) for L in L_list]\n",
    "plt.plot(L_list, loc_list)\n",
    "plt.xlabel('$L = \\sqrt{n}$')\n",
    "plt.ylabel('average locality')\n",
    "plt.grid()\n",
    "plt.show()"
   ]
  },
  {
   "cell_type": "markdown",
   "metadata": {},
   "source": [
    "# The Bravyi-Kitaev transform \n",
    "\n",
    "The qubit representation of fermionic operations is, in general, non-local.\n",
    "This is because the action of any fermionic operator depends, through commutation relations, on all previously-applied operators. \n",
    "Generic operations on fermions at the opposite ends of a lattice still influence each other!\n",
    "Nevertheless, using more complicated ways to encode fermionic states and to map fermionic operators to a qubit register, we can improve on the linear scaling of locality we found for Jordan-Wigner transformed operators, even in absence of a lattice structure.\n",
    "The Bravyi-Kitaev transform was the first to obtain a logarithmic scaling with $n$ of the average locality of transformed single-fermion operators.\n",
    "\n",
    "###  Occupation number and parity representations\n",
    "\n",
    "To understand Bravyi-Kitaev transform, we have to realize that when we want to calculate the action of a fermionic operator $c^\\dagger_k$ on a fermionic state, two things matter:\n",
    "- $f_k$, the **occupation** state of the site $k$ (defining whether $c^\\dagger_k$ can actually \"succeed\" in creating a fermion, or if it will \"fail\" sending the state to $0$)\n",
    "- $P(k)$ the **parity** of the total number of fermions in sites $j<k$, to determine the sign $\\{+, -\\}$ that the operator carries, to take into account the (anti)commutation relations.\n",
    "In Jordan-Wigner encoding, the occupation of the $k$-th site is stored in the $k$-th qubit (locally), while the parity $P(k)$ is stored non-locally in all sites $j:j<k$. This is the very origin of the Jordan-Wigner string, and of the linear scaling of the locality of transformed operators.\n",
    "We say that Jordan-Wigner encodes the fermionic state to the qubit register in the **number representation**.\n",
    "\n",
    "Dual to the Jordan-Wigner encoding is the **parity representation**, where each qubit $k$ stores the parity $P(k+1)$, and the occupation $f_k$ is calculated by multiplying the parities $P(k)$ and $P(k+1)$. The occupation state $f_k$ can be changed by the qubit operator $X_{k+1} \\pm i Z_{k} Y_{k+1}$ (check this!). This way, parity $P(k)$ and occupation $f_k$ at site $k$ only depend on qubits $k-1$ and $k$. \n",
    "Unfortunately nothing is gained in terms of locality of transformed operators: changing the occupation state at site $k$ by $c^\\dagger_k$ involves changing the parity $P(j)$ for all $j>k$ (and thus flipping all qubits $j: j<k$).\n",
    "\n",
    "**Exercise 8:** based on the information on parity representation encoding given in the previous paragraph, write the parity-encoding transforms for $c^\\dagger_k$ and $c_k$ (similarly to Eq.1)."
   ]
  },
  {
   "cell_type": "markdown",
   "metadata": {},
   "source": [
    "**Solution:**\n",
    "$$\n",
    "    c^\\dagger_k \\to \\frac{X_{k+1} + i Z_{k} Y_{k+1}}{2} X_{k+2} ... X_{n} \\\\\n",
    "    c_k         \\to \\frac{X_{k+1} - i Z_{k} Y_{k+1}}{2} X_{k+2} ... X_{n} \\\\\n",
    "$$"
   ]
  },
  {
   "cell_type": "markdown",
   "metadata": {},
   "source": [
    "### The transformation\n",
    "\n",
    "Bravyi-Kitaev transform uses a hybrid encoding, where each qubit $q_k$ stores some information about the parity/occupation of a number of sites, according to the following recursive algorithm:\n",
    "- for $k=0$, $q_k = f_k$ (like in the number representation. This will be true for all even $k$, after recursion)\n",
    "- for $k=2^m+1$, $q_k = P(k+1)$ (like in the parity representation)\n",
    "- for $k=2^m+j$ with $j\\leq2^m$: \n",
    "    - consider the subsystem consisting of only fermions $2^m < k < 2^m+1$, relabeling $k \\to j$\n",
    "    - recursively apply these encoding rules\n",
    "    - finally undo the relabelling ($j->k$).\n",
    "    \n",
    "An in-depth explaination of the algorithm, taking a pedagogical approach, can be found in [arXiv:1208.5986](https://arxiv.org/pdf/1208.5986.pdf), from which we took inspiration in writing this tutorial. There you can find also the full (highly non trivial) definition of the Bravyi-Kitaev mapping of fermionic operators.\n",
    "\n",
    "### Locality scaling\n",
    "\n",
    "In this encoding information is stored systematically in recursive binary groupings of sites, which can be represented by a binary tree. The key feature of this is that both parity $P(k)$ and occupation number $f_k$ at site $k$ are related to the state of only $\\log_2(n)$ qubits (i.e. the depth of the binary tree).\n",
    "We'll try to retrieve this scaling for the average locality empirically, using the `bravyi_kitaev` function of the `openfermion.transforms` module."
   ]
  },
  {
   "cell_type": "code",
   "execution_count": 231,
   "metadata": {
    "ExecuteTime": {
     "end_time": "2020-04-16T16:01:05.138996Z",
     "start_time": "2020-04-16T16:01:05.135819Z"
    }
   },
   "outputs": [
    {
     "name": "stdout",
     "output_type": "stream",
     "text": [
      "Help on function bravyi_kitaev in module openfermion.transforms._bravyi_kitaev:\n",
      "\n",
      "bravyi_kitaev(operator, n_qubits=None)\n",
      "    Apply the Bravyi-Kitaev transform.\n",
      "    \n",
      "    Implementation from arXiv:quant-ph/0003137 and\n",
      "    \"A New Data Structure for Cumulative Frequency Tables\" by Peter M. Fenwick.\n",
      "    \n",
      "    Note that this implementation is equivalent to the one described in\n",
      "    arXiv:1208.5986, and is different from the one described in\n",
      "    arXiv:1701.07072. The one described in arXiv:1701.07072 is implemented\n",
      "    in OpenFermion as `bravyi_kitaev_tree`.\n",
      "    \n",
      "    Args:\n",
      "        operator (openfermion.ops.FermionOperator):\n",
      "            A FermionOperator to transform.\n",
      "        n_qubits (int|None):\n",
      "            Can force the number of qubits in the resulting operator above the\n",
      "            number that appear in the input operator.\n",
      "    \n",
      "    Returns:\n",
      "        transformed_operator: An instance of the QubitOperator class.\n",
      "    \n",
      "    Raises:\n",
      "        ValueError: Invalid number of qubits specified.\n",
      "\n"
     ]
    }
   ],
   "source": [
    "from openfermion.transforms import bravyi_kitaev\n",
    "help(bravyi_kitaev)"
   ]
  },
  {
   "cell_type": "markdown",
   "metadata": {},
   "source": [
    "Note that the Bravyi-Kitaev transform **needs** to know the total number of modes (or of qubits) in the system that is being transformed. Make sure to specify n_qubits when you use the `bravyi_kitaev` function.\n",
    "e.g. the same operator $c_0$, as part of a $n$ modes system, looks different for different $n$:"
   ]
  },
  {
   "cell_type": "code",
   "execution_count": 232,
   "metadata": {
    "ExecuteTime": {
     "end_time": "2020-04-16T16:01:06.939614Z",
     "start_time": "2020-04-16T16:01:06.932571Z"
    }
   },
   "outputs": [
    {
     "name": "stdout",
     "output_type": "stream",
     "text": [
      "Example: in a 4-modes system FermionOperators are mapped according to:\n",
      "0  -> 0.5 [X0 X1 X3] + 0.5j [Y0 X1 X3]\n",
      "0^ -> 0.5 [X0 X1 X3] + -0.5j [Y0 X1 X3]\n",
      "1  -> 0.5 [Z0 X1 X3] + 0.5j [Y1 X3]\n",
      "1^ -> 0.5 [Z0 X1 X3] + -0.5j [Y1 X3]\n",
      "2  -> 0.5 [Z1 X2 X3] + 0.5j [Z1 Y2 X3]\n",
      "2^ -> 0.5 [Z1 X2 X3] + -0.5j [Z1 Y2 X3]\n",
      "3  -> 0.5 [Z1 Z2 X3] + 0.5j [Y3]\n",
      "3^ -> 0.5 [Z1 Z2 X3] + -0.5j [Y3]\n"
     ]
    }
   ],
   "source": [
    "n = 4 # Explore how this changes with n!\n",
    "print(f'Example: in a {n}-modes system FermionOperators are mapped according to:')\n",
    "for i in range(n):\n",
    "    print(f'{i}  ->', str(bravyi_kitaev(FermionOperator(f'{i}'), n_qubits=n)).replace('\\n', ' '))\n",
    "    print(f'{i}^ ->', str(bravyi_kitaev(FermionOperator(f'{i}^'), n_qubits=n)).replace('\\n', ' '))"
   ]
  },
  {
   "cell_type": "markdown",
   "metadata": {},
   "source": [
    "**Exercise 9:** Repeat the study did in exercises 4 and 5, this time using the Bravyi-Kitaev transform. Plot results in a log-lin graph, and verify the $\\log_2(n)$ scaling of the average locality for transformed single, quadratic and quartic fermionic operators."
   ]
  },
  {
   "cell_type": "code",
   "execution_count": 233,
   "metadata": {
    "ExecuteTime": {
     "end_time": "2020-04-16T16:01:08.118654Z",
     "start_time": "2020-04-16T16:01:08.110574Z"
    },
    "code_folding": []
   },
   "outputs": [],
   "source": [
    "def single_avg_loc(n):\n",
    "    fops = (FermionOperator(f'{i}') for i in range(n)) # generator\n",
    "    qops = (bravyi_kitaev(fop, n) for fop in fops) # generator\n",
    "    localities = list(qop.many_body_order() for qop in qops)\n",
    "    return np.average(localities)\n",
    "\n",
    "def quadratic_avg_loc(n):\n",
    "    fops = (FermionOperator(f'{i}^ {j}') for i in range(n) for j in range(n)) # generator\n",
    "    qops = (bravyi_kitaev(fop, n) for fop in fops) # generator\n",
    "    localities = list(qop.many_body_order() for qop in qops)\n",
    "    return np.average(localities)\n",
    "\n",
    "def quartic_avg_loc(n):\n",
    "    fops = (FermionOperator(f'{i}^ {j}^ {k} {l}') \n",
    "            for i in range(n) for j in range(i) for k in range(n) for l in range(k)\n",
    "           ) # generator\n",
    "    qops = (bravyi_kitaev(fop, n) for fop in fops) # generator\n",
    "    localities = list(qop.many_body_order() for qop in qops)\n",
    "    return np.average(localities)"
   ]
  },
  {
   "cell_type": "code",
   "execution_count": 234,
   "metadata": {
    "ExecuteTime": {
     "end_time": "2020-04-16T16:01:09.019549Z",
     "start_time": "2020-04-16T16:01:09.015746Z"
    }
   },
   "outputs": [],
   "source": [
    "import matplotlib.pyplot as plt"
   ]
  },
  {
   "cell_type": "code",
   "execution_count": 240,
   "metadata": {
    "ExecuteTime": {
     "end_time": "2020-04-16T16:02:34.889312Z",
     "start_time": "2020-04-16T16:02:03.586112Z"
    }
   },
   "outputs": [],
   "source": [
    "n_list = np.arange(2, 20)\n",
    "single_locs_bk = list(single_avg_loc(n) for n in n_list)\n",
    "quadratic_locs_bk = list(quadratic_avg_loc(n) for n in n_list)\n",
    "quartic_locs_bk = list(quartic_avg_loc(n) for n in n_list)"
   ]
  },
  {
   "cell_type": "code",
   "execution_count": 241,
   "metadata": {
    "ExecuteTime": {
     "end_time": "2020-04-16T16:02:35.190730Z",
     "start_time": "2020-04-16T16:02:34.917764Z"
    },
    "scrolled": true
   },
   "outputs": [
    {
     "data": {
      "image/png": "[encoded data removed]",
      "text/plain": [
       "<Figure size 432x288 with 1 Axes>"
      ]
     },
     "metadata": {
      "needs_background": "light"
     },
     "output_type": "display_data"
    }
   ],
   "source": [
    "plt.plot(n_list, single_locs_bk, 'o-', label='single')\n",
    "plt.plot(n_list, quadratic_locs_bk, 'o-', label='quadratic')\n",
    "plt.plot(n_list, quartic_locs_bk, 'o-', label='quartic')\n",
    "plt.legend()\n",
    "plt.ylabel('avg locality')\n",
    "plt.xlabel('n')\n",
    "plt.xscale('log')\n",
    "plt.grid()\n",
    "plt.show()"
   ]
  },
  {
   "cell_type": "markdown",
   "metadata": {},
   "source": [
    "The Bravyi-Kitaev transform restructures the geometry of the system to achieve logarithmic locality for a generic transformed operator.\n",
    "In doing so, it loses the advantage that Jordan-Wigner transform could get in geometrically-local systems.\n",
    "\n",
    "**Exercise 10:** Repeat the analysis for $d=1$ and $d=2$ lattices from exercises 6 and 7, using the Bravyi-Kitaev transform. Find the scaling of the average locality with $n$, compare it with results from exercise 9 and argue wether geometric locality gives a gain in this case, and how it compares to the advantage gained in the Jordan-Wigner case."
   ]
  },
  {
   "cell_type": "code",
   "execution_count": 238,
   "metadata": {
    "ExecuteTime": {
     "end_time": "2020-04-16T16:01:51.858025Z",
     "start_time": "2020-04-16T16:01:47.634984Z"
    }
   },
   "outputs": [],
   "source": [
    "from openfermion import FermionOperator, jordan_wigner\n",
    "from itertools import combinations\n",
    "\n",
    "def avg_loc_bk_generic(n):\n",
    "    hopping_fops = ([FermionOperator(f'{idx1}^ {idx2}')  for idx1, idx2 in combinations(range(n),2)]+\n",
    "                    [FermionOperator(f'{idx2}^ {idx1}')  for idx1, idx2 in combinations(range(n),2)])\n",
    "    hopping_qops = [bravyi_kitaev(fop, n) for fop in hopping_fops]\n",
    "    localities = [qop.many_body_order() for qop in hopping_qops ]\n",
    "    return np.average(localities)\n",
    "\n",
    "def avg_loc_bk_chain(n):\n",
    "    hopping_fops = ([FermionOperator(f'{idx}^ {idx+1}')  for idx in range(n-1)] +\n",
    "                    [FermionOperator(f'{idx} {idx+1}^')  for idx in range(n-1)] )\n",
    "    hopping_qops = [bravyi_kitaev(fop, n) for fop in hopping_fops]\n",
    "    localities = [qop.many_body_order() for qop in hopping_qops ]\n",
    "    return np.average(localities)\n",
    "\n",
    "def avg_loc_bk_square(L):\n",
    "    fops = square_lattice_quadratic(L)\n",
    "    qops = [bravyi_kitaev(fop, L**2) for fop in fops]\n",
    "    localities = [qop.many_body_order() for qop in qops ]\n",
    "    return np.average(localities)\n",
    "\n",
    "n_list = np.arange(2, 50)\n",
    "L_list = np.arange(1, 8)\n",
    "generic_locs_bk = [avg_loc_bk_generic(n) for n in n_list]\n",
    "chain_locs_bk = [avg_loc_bk_chain(n) for n in n_list]\n",
    "square_locs_bk = [avg_loc_bk_square(int(L)) for L in L_list]"
   ]
  },
  {
   "cell_type": "code",
   "execution_count": 239,
   "metadata": {
    "ExecuteTime": {
     "end_time": "2020-04-16T16:01:54.140071Z",
     "start_time": "2020-04-16T16:01:53.834156Z"
    }
   },
   "outputs": [
    {
     "data": {
      "image/png": "[encoded data removed]",
      "text/plain": [
       "<Figure size 432x288 with 1 Axes>"
      ]
     },
     "metadata": {
      "needs_background": "light"
     },
     "output_type": "display_data"
    }
   ],
   "source": [
    "plt.plot(n_list, generic_locs_bk, 'o-', label = 'generic')\n",
    "plt.plot(n_list, chain_locs_bk, 'o-', label = 'chain')\n",
    "plt.plot(L_list**2, square_locs_bk, 'o-', label = 'square')\n",
    "plt.legend()\n",
    "plt.ylabel('avg locality')\n",
    "plt.xlabel('n')\n",
    "plt.xscale('log')\n",
    "plt.grid()\n",
    "plt.show()"
   ]
  },
  {
   "cell_type": "markdown",
   "metadata": {},
   "source": [
    "# the JKMN transform \n",
    "\n",
    "The research on Fermion to Qubit mappings is still active. One of the most recent developments is dated Oct 2019 ([arXiv:1910.10746](https://arxiv.org/abs/1910.10746)).\n",
    "In this paper, Zhang Jiang and collaborators propose an elegant method based on ternary trees to achieve average locality of transformed single fermionic operators to $\\lceil{\\log_3(n)}\\rceil$ for a $n$-mode fermionic system.\n",
    "The authors also prove this method to be *optimal*: no general fermion to qubit mapping using $n$ qubits can do better than this.\n",
    "\n",
    "It is beyond the scope of this tutorial to explain the whole transform, but we give some concepts that can be useful if one wants to delve deeper into it.\n",
    "\n",
    "\n",
    "### Majorana representation of Fermionic operators\n",
    "\n",
    "To perform the JKMN transform we first have to rewrite the fermionic operators in term of **Majorana operators**, defined as\n",
    "$$\n",
    "    \\gamma_{2j} = c^\\dagger_j + c_j,\\\\\n",
    "    \\gamma_{2j+1} = i( c^\\dagger_j - c_j ).\n",
    "$$\n",
    "These operators behave much like generalizations of Pauli operators: they are Hermitian and unitary, thus squaring to the identity $\\gamma_j^2=\\mathbb{1}$, and they all anticommute with each other ($\\{\\gamma_j, \\gamma_k\\} = 2\\delta_{j,k}$).\n",
    "For a single-mode system, their matrix representation also looks like Pauli matrices (note that the last matrix is obtained by the product of all the previous ones):"
   ]
  },
  {
   "cell_type": "code",
   "execution_count": 38,
   "metadata": {
    "ExecuteTime": {
     "end_time": "2020-04-16T12:33:15.840082Z",
     "start_time": "2020-04-16T12:33:15.824500Z"
    }
   },
   "outputs": [
    {
     "name": "stdout",
     "output_type": "stream",
     "text": [
      "gamma_0  = [0^] + [0]\n",
      "[[0.+0.j 1.+0.j]\n",
      " [1.+0.j 0.+0.j]] \n",
      "(same form as Pauli X)\n",
      "\n",
      "gamma_1 = 1j [0^] - 1j [0]\n",
      "[[0.+0.j 0.-1.j]\n",
      " [0.+1.j 0.+0.j]] \n",
      "(same form as Pauli Y)\n",
      "\n",
      "gamma_0 * gamma_1 = 2 [0^0] + 1 []\n",
      "[[0.+1.j 0.+0.j]\n",
      " [0.+0.j 0.-1.j]] \n",
      "(same form as Pauli Z)\n",
      "\n"
     ]
    }
   ],
   "source": [
    "from openfermion import get_sparse_operator, FermionOperator\n",
    "\n",
    "gamma_0 = FermionOperator('0^', 1) + FermionOperator('0', 1)\n",
    "gamma_1 = FermionOperator('0^', 1j) + FermionOperator('0', -1j)\n",
    "\n",
    "print('gamma_0  = [0^] + [0]')\n",
    "print(get_sparse_operator(gamma_0).A, '\\n(same form as Pauli X)\\n')\n",
    "print('gamma_1 = 1j [0^] - 1j [0]')\n",
    "print(get_sparse_operator(gamma_1).A, '\\n(same form as Pauli Y)\\n')\n",
    "print('gamma_0 * gamma_1 = 2 [0^0] + 1 []')\n",
    "print(get_sparse_operator(gamma_0 * gamma_1).A, '\\n(same form as Pauli Z)\\n')      "
   ]
  },
  {
   "cell_type": "markdown",
   "metadata": {},
   "source": [
    "An operator in an $n$-mode fermionic system can be rewritten by choosing among $2n$ Majorana operators (sometimes also called Majorana modes).\n",
    "\n",
    "*Sidenote*: all transformations can be defined in terms of Majorana operators (as they're just a re-writing of fermionic operators). For JKMN this is specially useful.\n",
    "\n",
    "### The ternary tree construction\n",
    "\n",
    "Let's suppose that the number of fermionic modes in our system is $n = (3^m-1)/2$ (the extension to a generic $n$ is technical but conceptually simple).\n",
    "The number of Majorana modes will then be $3^m-1$.\n",
    "Let's now construct a **ternary tree** like in Figure 1 of the [JKMN paper](https://arxiv.org/abs/1910.10746):\n",
    "we start with one root node from which 3 branches spring. At the end of every branch a new node springs 3 more branches. Repeating the operation $m$ times we obtain a tree with $3^m$ terminal nodes (or **leaf nodes**).\n",
    "To each leaf node but the last one we assign one of the Majorana operators $\\gamma_j$.\n",
    "To each branching node (i.e. non-terminal node) we associate a qubit $Q_i$ (exercise: convince yourself that we need exactly $n$ qubits).\n",
    "To each branch we associate one of the three pauli operators acting on the qubit on the node from which the branch springs $\\{X_i, Y_i, Z_i\\}$.\n",
    "Each $\\gamma_j$ will be mapped to a string of Pauli operators corresponding to the branches on the path that connect the leaf $\\gamma_j$ to the root of the tree.\n",
    "\n",
    "Mappings of $\\gamma_j$ and $\\gamma_{j'}$ will differ by a single different Pauli matrix on the same qubit, at the node where the paths join (plus a bunch of identities on qubits not touched by the paths.\n",
    "For this reason, all transformed $\\gamma_j$ will anticommute.\n",
    "Also, as the number of branches on the path from any leaf to the root is $m = \\log_3(2n+1)$, every majorana operator will be mapped to a $m$-local qubit operator.\n",
    "\n",
    "### Locality scaling\n",
    "\n",
    "The code for JKMN is not yet in openfermion, but we coded it for the tutorial and for our research. We are planning to add it to openfermion in the near future.\n",
    "The code is in the module file `_jkmn.py`, which you should have downloaded from the course website. Run `import _jkmn` and `help(_jkmn)` to see the content of the module.\n",
    "The function `jkmn` from this module is homologue to the `bravyi_kitaev` function of `openfermion.transforms` and requires the number of modes to be specified.\n",
    "\n",
    "**Exercise 11:** The code below prints the `FermionOperator` objects for each of the 8 Majorana $\\gamma_j$ in a $n=4$ fermionic modes system. Use JKMN to map them to QubitOperators and check the mapped operators against the tree in Figure 1 of the [JKMN paper](https://arxiv.org/abs/1910.10746)."
   ]
  },
  {
   "cell_type": "code",
   "execution_count": 225,
   "metadata": {
    "ExecuteTime": {
     "end_time": "2020-04-16T15:54:13.379850Z",
     "start_time": "2020-04-16T15:54:13.371800Z"
    }
   },
   "outputs": [
    {
     "name": "stdout",
     "output_type": "stream",
     "text": [
      "Maj |      Fermion op      |    JKMN-mapped Qubit op\n",
      " 0  |  1.0 [0] + 1.0 [0^]  |        1.0 [X0 X1]       \n",
      " 1  |   1j [0] - 1j [0^]   |      (1+0j) [X0 Y1]      \n",
      " 2  |  1.0 [1] + 1.0 [1^]  |        1.0 [X0 Z1]       \n",
      " 3  |   1j [1] - 1j [1^]   |      (1+0j) [Y0 X2]      \n",
      " 4  |  1.0 [2] + 1.0 [2^]  |        1.0 [Y0 Y2]       \n",
      " 5  |   1j [2] - 1j [2^]   |      (1+0j) [Y0 Z2]      \n",
      " 6  |  1.0 [3] + 1.0 [3^]  |        1.0 [Z0 X3]       \n",
      " 7  |   1j [3] - 1j [3^]   |      (1+0j) [Z0 Y3]      \n"
     ]
    }
   ],
   "source": [
    "from _jkmn import majorana_to_fermion, inline, jkmn\n",
    "from openfermion import MajoranaOperator\n",
    "\n",
    "n = 4\n",
    "print(f'Maj |      Fermion op      |    JKMN-mapped Qubit op')\n",
    "for maj_idx in range(2*n):\n",
    "    fop = majorana_to_fermion(MajoranaOperator((maj_idx,)))\n",
    "    qop = jkmn(fop, n)\n",
    "    print(f'{maj_idx:^3} | {inline(fop):^20} | {inline(qop):^25}')\n"
   ]
  },
  {
   "cell_type": "markdown",
   "metadata": {},
   "source": [
    "**Exercise 12:** Use the `jkmn` function to perform the same study on average locality versus system size you performed for the Jordan-Wigner and Bravyi-Kitaev transforms. Do this for single fermionic operators, for quadratic and for quartic. \n",
    "For each, plot results of the three transforms together (choose the preferred plotting scale)."
   ]
  },
  {
   "cell_type": "code",
   "execution_count": 249,
   "metadata": {
    "ExecuteTime": {
     "end_time": "2020-04-16T16:09:10.308526Z",
     "start_time": "2020-04-16T16:09:10.300615Z"
    },
    "code_folding": []
   },
   "outputs": [],
   "source": [
    "def single_avg_loc(n):\n",
    "    fops = (FermionOperator(f'{i}') for i in range(n)) # generator\n",
    "    qops = (jkmn(fop, n) for fop in fops) # generator\n",
    "    localities = list(qop.many_body_order() for qop in qops)\n",
    "    return np.average(localities)\n",
    "\n",
    "def quadratic_avg_loc(n):\n",
    "    fops = (FermionOperator(f'{i}^ {j}') for i in range(n) for j in range(n)) # generator\n",
    "    qops = (jkmn(fop, n) for fop in fops) # generator\n",
    "    localities = list(qop.many_body_order() for qop in qops)\n",
    "    return np.average(localities)\n",
    "\n",
    "def quartic_avg_loc(n):\n",
    "    fops = (FermionOperator(f'{i}^ {j}^ {k} {l}') \n",
    "            for i in range(n) for j in range(i) for k in range(n) for l in range(k)\n",
    "           ) # generator\n",
    "    qops = (jkmn(fop, n) for fop in fops) # generator\n",
    "    localities = list(qop.many_body_order() for qop in qops)\n",
    "    return np.average(localities)"
   ]
  },
  {
   "cell_type": "code",
   "execution_count": 250,
   "metadata": {
    "ExecuteTime": {
     "end_time": "2020-04-16T16:09:10.710961Z",
     "start_time": "2020-04-16T16:09:10.707111Z"
    }
   },
   "outputs": [],
   "source": [
    "import matplotlib.pyplot as plt"
   ]
  },
  {
   "cell_type": "code",
   "execution_count": 251,
   "metadata": {
    "ExecuteTime": {
     "end_time": "2020-04-16T16:13:52.945140Z",
     "start_time": "2020-04-16T16:09:10.990336Z"
    }
   },
   "outputs": [],
   "source": [
    "n_list = np.arange(2, 20)\n",
    "single_locs_jkmn = list(single_avg_loc(n) for n in n_list)\n",
    "quadratic_locs_jkmn = list(quadratic_avg_loc(n) for n in n_list)\n",
    "quartic_locs_jkmn = list(quartic_avg_loc(n) for n in n_list)"
   ]
  },
  {
   "cell_type": "code",
   "execution_count": 252,
   "metadata": {
    "ExecuteTime": {
     "end_time": "2020-04-16T16:13:53.251945Z",
     "start_time": "2020-04-16T16:13:52.974883Z"
    },
    "scrolled": true
   },
   "outputs": [
    {
     "data": {
      "image/png": "[encoded data removed]",
      "text/plain": [
       "<Figure size 432x288 with 1 Axes>"
      ]
     },
     "metadata": {
      "needs_background": "light"
     },
     "output_type": "display_data"
    }
   ],
   "source": [
    "plt.title('JKMN')\n",
    "plt.plot(n_list, single_locs_jkmn, 'o-', label='single')\n",
    "plt.plot(n_list, quadratic_locs_jkmn, 'o-', label='quadratic')\n",
    "plt.plot(n_list, quartic_locs_jkmn, 'o-', label='quartic')\n",
    "plt.legend()\n",
    "plt.ylabel('avg locality')\n",
    "plt.xlabel('n')\n",
    "plt.xscale('log')\n",
    "plt.grid()\n",
    "plt.show()"
   ]
  },
  {
   "cell_type": "markdown",
   "metadata": {},
   "source": [
    "#### summary of localities for singles "
   ]
  },
  {
   "cell_type": "code",
   "execution_count": 253,
   "metadata": {
    "ExecuteTime": {
     "end_time": "2020-04-16T16:13:53.536947Z",
     "start_time": "2020-04-16T16:13:53.279229Z"
    }
   },
   "outputs": [
    {
     "data": {
      "image/png": "[encoded data removed]",
      "text/plain": [
       "<Figure size 432x288 with 1 Axes>"
      ]
     },
     "metadata": {
      "needs_background": "light"
     },
     "output_type": "display_data"
    }
   ],
   "source": [
    "plt.title('Singles')\n",
    "plt.plot(n_list, single_locs_jw, 'o-', label='Jordan-Wigner')\n",
    "plt.plot(n_list, single_locs_bk, 'o-', label='Bravyi-Kitaev')\n",
    "plt.plot(n_list, single_locs_jkmn, 'o-', label='JKMN')\n",
    "plt.legend()\n",
    "plt.ylabel('avg locality')\n",
    "plt.xlabel('n')\n",
    "plt.xscale('log')\n",
    "plt.grid()\n",
    "plt.show()"
   ]
  },
  {
   "cell_type": "markdown",
   "metadata": {},
   "source": [
    "# Final notes and caveats\n",
    "\n",
    "#### Geometric locality: another point of view\n",
    "\n",
    "We saw that Jordan-Wigner transform preserves takes into account geometric locality to some degree, while Bravyi-Kitaev and JKMN don't. \n",
    "This is useful when studying systems that can be mapped to a local lattice.\n",
    "Most phyisical systems have built-in geometric locality at some scale: at a deep level all physical sytems are local because of relativity!\n",
    "Unfortunately this scale is sometimes larger than what we can ever expect to simulate on a quantum computer.\n",
    "\n",
    "In chemistry, for example, Hamiltonians constructed using molecular orbitals (which often extend over many atoms) as modes are often not geometrically local at all.\n",
    "Finding efficient ways to construct molecular Hamiltonians that use localised fermionic modes, to retain some sort of geometric locality, is an active research field (with applications beyond efficiency of fermion to qubit mappings).\n",
    "\n",
    "Furthermore, most quantum devices that can be used to actually implement quantum algorithms are themselves geometrically local. \n",
    "Qubits are arranged in some lattice structure, typically on a plane or on a line, and can only interact with a subset of neighboring qubits.\n",
    "(Examples are superconducting qubits, spin qubits and most topological qubit models. Notable exceptions are ion-based devices, which show all-to-all interactions).\n",
    "Simulating a geometrically local fermionic system on a geometrically local quantum processor might quickly become very hard because non-local operations might be needed.\n",
    "In this case, Jordan-Wigner might be much better than the seemingly more optimized JKMN!\n",
    "\n",
    "#### Ancillas to go \"beyond optimal\" scaling\n",
    "\n",
    "Even though it is proven that no transform that maps the whole fermionic $n$-mode Hilbert space to $n$ qubits can show better locality scaling than BKSF, better locality can be achieved adding ancilla qubits.\n",
    "Bravyi-Kitaev superfast transform  (BKSF, not to be confused with Bravyi-Kitaev!) does exactly this to achieve *constant* locality at a cost of introducing a qubit for each interaction.\n",
    "These kind of transforms tend to be less general (BKSF can *only* map number-conserving quadratic and quartic operators), allowing to exploit specific properties of the problem."
   ]
  }
 ],
 "metadata": {
  "hide_input": false,
  "kernelspec": {
   "display_name": "Python 3",
   "language": "python",
   "name": "python3"
  },
  "language_info": {
   "codemirror_mode": {
    "name": "ipython",
    "version": 3
   },
   "file_extension": ".py",
   "mimetype": "text/x-python",
   "name": "python",
   "nbconvert_exporter": "python",
   "pygments_lexer": "ipython3",
   "version": "3.7.1"
  },
  "varInspector": {
   "cols": {
    "lenName": 16,
    "lenType": 16,
    "lenVar": 40
   },
   "kernels_config": {
    "python": {
     "delete_cmd_postfix": "",
     "delete_cmd_prefix": "del ",
     "library": "var_list.py",
     "varRefreshCmd": "print(var_dic_list())"
    },
    "r": {
     "delete_cmd_postfix": ") ",
     "delete_cmd_prefix": "rm(",
     "library": "var_list.r",
     "varRefreshCmd": "cat(var_dic_list()) "
    }
   },
   "types_to_exclude": [
    "module",
    "function",
    "builtin_function_or_method",
    "instance",
    "_Feature"
   ],
   "window_display": false
  }
 },
 "nbformat": 4,
 "nbformat_minor": 2
}

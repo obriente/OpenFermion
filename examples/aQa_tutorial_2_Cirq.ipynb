{
 "cells": [
  {
   "cell_type": "markdown",
   "metadata": {},
   "source": [
    "# Designing and simulating quantum circuits with cirq\n",
    "In this tutorial we will learn the basics of using Google's quantum circuit designer, cirq.\n",
    "To install cirq, please see the instructions at https://cirq.readthedocs.io/en/stable/install.html\n",
    "1. What is cirq?\n",
    "1. Making a circuit\n",
    "    1. Quantum registers\n",
    "    1. Operations and circuits\n",
    "1. Simulating a circuit\n",
    "    1. Simulating real quantum experiments\n",
    "    1. Big-endian data\n",
    "    1. Accessing wavefunctions\n",
    "1. Parameterizing quantum circuits\n",
    "    1. Declaring variables\n",
    "    1. Fixing variables\n",
    "    1. Fold functions\n",
    "    1. Sweeping variables\n",
    "1. Exercise - quantum teleportation"
   ]
  },
  {
   "cell_type": "markdown",
   "metadata": {},
   "source": [
    "# What is cirq?\n",
    "\n",
    "Cirq is a package to allow easy creation and editing of quantum circuits. Similar packages include IBM's QISKIT Terra, Rigetti's pyquil, Microsoft's Q#, and Xanadu's Strawberry Fields. All of these packages have methods to define and optimize a quantum circuit in terms of a primitive gate-set, and to store and manipulate output from a quantum device, and to feedback/optimize a quantum circuit in a hybrid quantum-classical scheme. Furthermore, most have some ability to simulate a quantum circuit classically (for up to a few tens of qubits), and to output quantum assembly language (qasm) code to send to a real device."
   ]
  },
  {
   "cell_type": "markdown",
   "metadata": {},
   "source": [
    "# Making a circuit\n",
    "## Defining qubits\n",
    "The first part of creating a quantum circuit is to define a set of qubits (also known as a quantum register), for operations (gates and measurement) to act upon. Each qubit requires a unique label for reference, in the same way that a classical variable needs a name, though this may be as simple as an index number.\n",
    "\n",
    "Cirq has (currently) three different types of methods for labeling qubits - either by name (using the cirq.NamedQubit class), or by number in a linear array (using the cirq.LineQubit class) or a square lattice (using the cirq.GridQubit class). In this section we will create a circuit to make Bell pairs on two qubits, so LineQubits should be sufficient."
   ]
  },
  {
   "cell_type": "code",
   "execution_count": 1,
   "metadata": {
    "ExecuteTime": {
     "end_time": "2020-02-21T15:59:47.665577Z",
     "start_time": "2020-02-21T15:59:47.656966Z"
    }
   },
   "outputs": [
    {
     "name": "stdout",
     "output_type": "stream",
     "text": [
      "[cirq.LineQubit(0), cirq.LineQubit(1)]\n"
     ]
    }
   ],
   "source": [
    "from cirq import LineQubit\n",
    "qubits = [LineQubit(0), LineQubit(1)]\n",
    "print(qubits)"
   ]
  },
  {
   "cell_type": "markdown",
   "metadata": {},
   "source": [
    "## Operations and circuits\n",
    "To make a circuit, we need to add some operations. Operations are either measurements or gates --- a wide range of choices for the latter exist. When creating each operation, we need to specify which qubit(s) it acts upon.\n",
    "\n",
    "We can make a Bell state preparation circuit with just a single Hadamard and CNOT gate, let's do it!"
   ]
  },
  {
   "cell_type": "code",
   "execution_count": 2,
   "metadata": {
    "ExecuteTime": {
     "end_time": "2020-02-21T15:59:48.962044Z",
     "start_time": "2020-02-21T15:59:48.945293Z"
    }
   },
   "outputs": [
    {
     "name": "stdout",
     "output_type": "stream",
     "text": [
      "0: ───H───@───\n",
      "          │\n",
      "1: ───────X───\n"
     ]
    }
   ],
   "source": [
    "from cirq import H, CNOT, Circuit\n",
    "circuit = Circuit()\n",
    "circuit.append(H(qubits[0]))\n",
    "\n",
    "# A CNOT gate requires both a control and a target qubit - in cirq, the control qubit is specified first.\n",
    "circuit.append(CNOT(qubits[0],qubits[1]))\n",
    "print(circuit)"
   ]
  },
  {
   "cell_type": "markdown",
   "metadata": {},
   "source": [
    "Note that cirq prints out an ascii version of the quantum circuit instead of a list of the operations it contains. Internally, cirq divides the circuit into a set of Moments, which contain the operations that act in parallel in a single timestep. This may be further customized by the use of Schedules for implementation on real quantum devices, but we will not cover this in this course.\n",
    "\n",
    "At the moment this circuit prepares a state, but does not measure it - this is the same as a function that doesn't return a final variable. Let's add a measurement to check the correlations of our prepared Bell state (in the Z basis)."
   ]
  },
  {
   "cell_type": "code",
   "execution_count": 3,
   "metadata": {
    "ExecuteTime": {
     "end_time": "2020-02-21T15:59:49.853657Z",
     "start_time": "2020-02-21T15:59:49.839645Z"
    }
   },
   "outputs": [
    {
     "name": "stdout",
     "output_type": "stream",
     "text": [
      "0: ───H───@───M('M')───\n",
      "          │   │\n",
      "1: ───────X───M────────\n"
     ]
    }
   ],
   "source": [
    "from cirq import measure\n",
    "# We label the measurement with a key for ease of future access\n",
    "circuit.append(measure(*qubits, key='M'))  # Remember here writing *qubits is equivalent to qubits[0], qubits[1]\n",
    "print(circuit)"
   ]
  },
  {
   "cell_type": "markdown",
   "metadata": {},
   "source": [
    "# Simulating a circuit"
   ]
  },
  {
   "cell_type": "markdown",
   "metadata": {},
   "source": [
    "For now (sadly) we will resort to simulating our quantum algorithms on a classical computer instead of a real quantum device. There are many different ways to simulate a quantum circuit, depending on what one is trying to optimize for (number of qubits, circuit depth, accuracy, noise modelling). Cirq currently has two simulators - a pure wavefunction simulator (cirq.Simulator), and a density-matrix simulator (cirq.DensityMatrixSimulator) that allows for accurate noise modeling --- with an increased computational cost. In this course, we will use the former, although the latter is important if one wants to test whether a quantum circuit is viable for NISQ-era devices.\n",
    "\n",
    "A critical difference between classical simulation and actual implementation on a quantum device is whether we have access to the actual quantum state (which we do in most classical simulators), or just measurement results (which is all we have access to on a quantum device). Accessing the quantum state can useful for debugging or understanding the quantum algorithm being implemented. However, one must be careful, as using this data avoids many of the complexities of implementing quantum algorithms on real devices, and can lead to designing algorithms that are unfeasible in the real world.\n",
    "\n",
    "In order to simulate a quantum algorithm as it would be done in the real world, we should use the cirq.Simulator.run command."
   ]
  },
  {
   "cell_type": "code",
   "execution_count": 4,
   "metadata": {
    "ExecuteTime": {
     "end_time": "2020-02-21T15:59:51.570360Z",
     "start_time": "2020-02-21T15:59:51.553245Z"
    }
   },
   "outputs": [
    {
     "name": "stdout",
     "output_type": "stream",
     "text": [
      "Counter({0: 51, 3: 49})\n"
     ]
    }
   ],
   "source": [
    "from cirq import Simulator\n",
    "simulator = Simulator()\n",
    "results = simulator.run(circuit, repetitions=100)\n",
    "print(results.histogram(key='M'))"
   ]
  },
  {
   "cell_type": "markdown",
   "metadata": {},
   "source": [
    "## Big-endian data\n",
    "The result of the simulation is given in a sparse big-endian binary representation. That is, the nth binary digit of each key in the above histogram corresponds to the measurement result on the nth qubit. The associated value shows the number of times that this result was reported, but results that do not occur are not stored (to prevent having to store an exponentially-large number of 0's). Note that the sum of all values is equal to 100 --- the number of repetitions we chose for the circuit.\n",
    "\n",
    "As our measurement is on 2 qubits, we have a total of $2^2=4$ possible outcomes:\n",
    "* 0 := 00\n",
    "* 1 := 01\n",
    "* 2 := 10\n",
    "* 3 := 11\n",
    "\n",
    "The name 'big-endian' refers to the fact that the left-most bit of the string refers to the first qubit. The qubit order was declared when we added the measurement to the circuit.\n",
    "\n",
    "The main result to observe from our Bell state is that the measurements are correlated - either both qubit 0 and qubit 1 measure 0 (final result = 0), or both qubit 0 and qubit 1 measure 1 (final result = 3 = 11). However, the measurement outcome of individual qubits in a Bell state is random, so we expect to see for each qubit 0 and 1 approximately 50 times each. Of course, as the result of each run is independently randomly drawn, don't expect to see 0 and 1 exactly 50 times each. The uncertainty in this, known as sampling noise, is a critical bottleneck in extracting information from a quantum computer that we will investigate later.\n",
    "\n",
    "We'll come back to the Bell state in a bit, but let's go over the big-endian representation first to get comfortable with ordering."
   ]
  },
  {
   "cell_type": "markdown",
   "metadata": {},
   "source": [
    "**Exercise 1:** Create a circuit on two qubits in a linear array that flips qubit 0 and not qubit 1, and then measures them both.\n",
    "\n",
    "What measurement outcome do you expect?\n",
    "\n",
    "Simulate the circuit and see if the results match your expectations."
   ]
  },
  {
   "cell_type": "code",
   "execution_count": 5,
   "metadata": {
    "ExecuteTime": {
     "end_time": "2020-02-21T16:02:05.109700Z",
     "start_time": "2020-02-21T16:02:05.072083Z"
    }
   },
   "outputs": [
    {
     "name": "stdout",
     "output_type": "stream",
     "text": [
      "0: ───X───M('M')───\n",
      "          │\n",
      "1: ───────M────────\n"
     ]
    },
    {
     "data": {
      "text/plain": [
       "M=1111111111, 0000000000"
      ]
     },
     "execution_count": 5,
     "metadata": {},
     "output_type": "execute_result"
    }
   ],
   "source": [
    "# You might find this gate useful.\n",
    "from cirq import X\n",
    "### Insert your code here!\n",
    "circuit = Circuit()\n",
    "circuit.append(X(qubits[0]))\n",
    "circuit.append(measure(*qubits, key='M'))\n",
    "print(circuit)\n",
    "simulator.run(circuit, repetitions=10)"
   ]
  },
  {
   "cell_type": "markdown",
   "metadata": {},
   "source": [
    "**Exercise 2:** Adjust the ordering of the qubits in the measurement, re-simulate, and check that the results change as you expect."
   ]
  },
  {
   "cell_type": "code",
   "execution_count": 6,
   "metadata": {
    "ExecuteTime": {
     "end_time": "2020-02-21T16:04:44.508685Z",
     "start_time": "2020-02-21T16:04:44.479118Z"
    }
   },
   "outputs": [
    {
     "name": "stdout",
     "output_type": "stream",
     "text": [
      "0: ───X───\n",
      "0: ───X───×───\n",
      "          │\n",
      "1: ───────×───\n",
      "0: ───X───×───M('M')───\n",
      "          │   │\n",
      "1: ───────×───M────────\n"
     ]
    },
    {
     "data": {
      "text/plain": [
       "M=0000000000, 1111111111"
      ]
     },
     "execution_count": 6,
     "metadata": {},
     "output_type": "execute_result"
    }
   ],
   "source": [
    "### Insert your code here!\n",
    "from cirq import X, SWAP\n",
    "### Insert your code here!\n",
    "circuit = Circuit()\n",
    "circuit.append(X.on(qubits[0]))\n",
    "print(circuit)\n",
    "circuit.append(SWAP(qubits[0],qubits[1]))\n",
    "print(circuit)\n",
    "circuit.append(measure(*qubits, key='M'))\n",
    "print(circuit)\n",
    "simulator.run(circuit, repetitions=10)"
   ]
  },
  {
   "cell_type": "code",
   "execution_count": 7,
   "metadata": {
    "ExecuteTime": {
     "end_time": "2020-02-21T16:04:44.876239Z",
     "start_time": "2020-02-21T16:04:44.867102Z"
    }
   },
   "outputs": [
    {
     "name": "stdout",
     "output_type": "stream",
     "text": [
      "0: ───X───\n",
      "0: ───X───!M('M')───\n",
      "          │\n",
      "1: ───────!M────────\n"
     ]
    },
    {
     "data": {
      "text/plain": [
       "M=0000000000, 1111111111"
      ]
     },
     "execution_count": 7,
     "metadata": {},
     "output_type": "execute_result"
    }
   ],
   "source": [
    "### Insert your code here!\n",
    "from cirq import X, SWAP\n",
    "### Insert your code here!\n",
    "circuit = Circuit()\n",
    "circuit.append(X.on(qubits[0]))\n",
    "print(circuit)\n",
    "circuit.append(measure(*qubits, key='M', invert_mask=[True, True]))\n",
    "print(circuit)\n",
    "simulator.run(circuit, repetitions=10)"
   ]
  },
  {
   "cell_type": "markdown",
   "metadata": {},
   "source": [
    "There is no need to treat the measurement on both qubits in a single operation. Indeed, for many algorithms it is critical that measurements be allowed at different points in the circuit, which will require different operations.\n",
    "\n",
    "**Exercise 3:** Edit the above circuit for Bell state generation to use two separate measurement operations instead of one. You will need to use two different keys (try 'M0' and 'M1')."
   ]
  },
  {
   "cell_type": "code",
   "execution_count": 8,
   "metadata": {
    "ExecuteTime": {
     "end_time": "2020-02-21T16:05:59.865518Z",
     "start_time": "2020-02-21T16:05:59.835045Z"
    }
   },
   "outputs": [
    {
     "name": "stdout",
     "output_type": "stream",
     "text": [
      "0: ───H───@───M('M0')───\n",
      "          │\n",
      "1: ───────X───M('M1')───\n",
      "\n",
      "Histogram of measurement on qubit 0\n",
      "Counter({1: 53, 0: 47})\n",
      "\n",
      "Histogram of measurement on qubit 1\n",
      "Counter({1: 53, 0: 47})\n"
     ]
    }
   ],
   "source": [
    "circuit = Circuit()\n",
    "circuit.append(H(qubits[0]))\n",
    "circuit.append(CNOT(qubits[0],qubits[1]))\n",
    "\n",
    "###Replace this line!\n",
    "circuit.append(measure(qubits[0], key='M0'))\n",
    "circuit.append(measure(qubits[1], key='M1'))\n",
    "print(circuit)\n",
    "\n",
    "simulator = Simulator()\n",
    "results = simulator.run(circuit, repetitions=100)\n",
    "print()\n",
    "print('Histogram of measurement on qubit 0')\n",
    "print(results.histogram(key='M0'))\n",
    "print()\n",
    "print('Histogram of measurement on qubit 1')\n",
    "print(results.histogram(key='M1'))"
   ]
  },
  {
   "cell_type": "markdown",
   "metadata": {},
   "source": [
    "The above works, but the correlation information that characterise the Bell state is no longer present in the histogram, as we do not see whether each 0 in the first histogram corresponds to a 0 in the second. However, cirq does store this information. To recover it, we can use the Results.multi_measurement_histogram function."
   ]
  },
  {
   "cell_type": "code",
   "execution_count": 9,
   "metadata": {
    "ExecuteTime": {
     "end_time": "2020-02-21T16:06:06.499995Z",
     "start_time": "2020-02-21T16:06:06.490075Z"
    }
   },
   "outputs": [
    {
     "name": "stdout",
     "output_type": "stream",
     "text": [
      "Counter({(1, 1): 53, (0, 0): 47})\n"
     ]
    }
   ],
   "source": [
    "print(results.multi_measurement_histogram(keys=['M0','M1']))"
   ]
  },
  {
   "cell_type": "markdown",
   "metadata": {},
   "source": [
    "This function has the advantage that the measurement outcome on each qubit is immediately visible, at the cost of a slight increase in the amount of code to be written. Which to use is entirely a matter of personal preference.\n",
    "\n",
    "For data-processing purposes, we note that the elements of a Counter may be accessed in the same way as elements of a dictionary, or as single elements of an array. Unfortunately, slicing is **not** supported, but we will see soon how one may circumvent this issue. Also, elements that are not stored in a Counter (i.e. measurement outcomes that never occurred, and even those that cannot occur) may be called for --- the Counter will output 0 in such a case.\n",
    "\n",
    "(For more information on Counters, see their entry in the Python docs --- https://docs.python.org/2/library/collections.html#collections.Counter )"
   ]
  },
  {
   "cell_type": "code",
   "execution_count": 10,
   "metadata": {
    "ExecuteTime": {
     "end_time": "2020-02-21T16:06:54.672314Z",
     "start_time": "2020-02-21T16:06:54.645819Z"
    }
   },
   "outputs": [
    {
     "name": "stdout",
     "output_type": "stream",
     "text": [
      "47\n",
      "47\n",
      "0\n",
      "0\n"
     ]
    }
   ],
   "source": [
    "hist = results.multi_measurement_histogram(keys=['M0','M1'])\n",
    "print(hist[0,0])  # Accessing as array\n",
    "print(hist[(0,0)])  # Accessing as tuple\n",
    "print(hist[(0,1)])  # This result is never seen, but may still be queried.\n",
    "print(hist[0,2])  # This result could never be seen (as M1 may only return a value of 0 or 1),\n",
    "                  # but may still be safely queried."
   ]
  },
  {
   "cell_type": "markdown",
   "metadata": {},
   "source": [
    "## Accessing wavefunctions\n",
    "Though the above circuit produces Bell states, we have not proven this, as we have only seen correlations along a single access --- this may be classically reproduced!\n",
    "\n",
    "In a second we will adjust the above circuit to demonstrate this, but let us first check by directly accessing the wavefunction after running the circuit. This is achieved using the simulator.simulate command.\n",
    "\n",
    "Recall that in the computational basis, the Bell state takes the form $$\\frac{1}{\\sqrt{2}}\\left(|00\\rangle+|11\\rangle\\right)$$"
   ]
  },
  {
   "cell_type": "code",
   "execution_count": 11,
   "metadata": {
    "ExecuteTime": {
     "end_time": "2020-02-21T16:14:35.751821Z",
     "start_time": "2020-02-21T16:14:35.733429Z"
    }
   },
   "outputs": [
    {
     "name": "stdout",
     "output_type": "stream",
     "text": [
      "[ 0.707+0.j  0.   +0.j -0.   +0.j  0.707+0.j]\n"
     ]
    }
   ],
   "source": [
    "circuit = Circuit()\n",
    "circuit.append(H(qubits[0]))\n",
    "circuit.append(CNOT(qubits[0],qubits[1]))\n",
    "# Note that we do not add measurement \n",
    "result = simulator.simulate(circuit)\n",
    "print(result.final_state.round(3))"
   ]
  },
  {
   "cell_type": "markdown",
   "metadata": {},
   "source": [
    "# Parametrizing a quantum circuit\n",
    "In order to prove that our Bell state is a Bell state without cheating, we need to perform measurement in multiple bases. This is a great time to investigate parametrized quantum circuits.\n",
    "\n",
    "A parametrized quantum circuit is one where one or more gates have free variables to be specified at run-time. This allows for a classical script to treat the call to a quantum computer as a black box with free input variables, and, for instance, optimize over the output. This is a key idea in NISQ algorithms, which you will encounter next week in the lecture and tutorial.\n",
    "\n",
    "## Declaring parameters\n",
    "\n",
    "Parameters may be easily specified in cirq by the use of sympy's Symbol class - just replace angles that would be inserted by Symbol instances, and then fix values later in the code.\n",
    "\n",
    "The gate that we are going to parameterize is a Y rotation on qubit 0\n",
    "$$R_y(\\theta) = e^{-i\\theta/2 Y_0}=\\left(\\begin{array}{cc}\\cos(\\theta/2) & -\\sin(\\theta/2)\\\\ \\sin(\\theta/2) &\\cos(\\theta/2)\\end{array} \\right). $$\n",
    "This rotates between the X and Z axis on qubit 0 as $\\theta$ runs from $0\\rightarrow\\pi$, which means that at a measurement of the state $R_y(\\theta)|\\Psi\\rangle$ in the Z (computational) basis is equivalent to a measurement of $|\\Psi\\rangle$ in the $\\cos(\\theta/2) Z - \\sin(\\theta/2) X$ basis. In most physical implementations of quantum devices, direct measurement along more than 1 axis is not possible, but the above is very cost-effective to implement.\n",
    "\n",
    "Note that in the below, we have to make not one, but two calls to generate the rotation gate. The first call fixes the angle, whilst the second fixes which qubits the gate acts upon. Under the hood, this gate is decomposed into the native primitive gates used in Google's Xmon hardware.\n",
    "\n",
    "(We will not have time to go into the details of hardware-specific circuit optimization. However, you should realise that this is a big feature of NISQ-era research --- textbook quantum algorithms are rarely executed as specified in real quantum hardware, and optimizing circuits for a given physical implementation can improve results by orders of magnitude or more.)"
   ]
  },
  {
   "cell_type": "code",
   "execution_count": 12,
   "metadata": {
    "ExecuteTime": {
     "end_time": "2020-02-21T16:14:41.107859Z",
     "start_time": "2020-02-21T16:14:41.075026Z"
    }
   },
   "outputs": [
    {
     "name": "stdout",
     "output_type": "stream",
     "text": [
      "0: ───H───@───Ry(theta)───M('M')───\n",
      "          │               │\n",
      "1: ───────X───────────────M────────\n"
     ]
    }
   ],
   "source": [
    "from sympy import Symbol\n",
    "from cirq import ry\n",
    "theta = Symbol('theta')\n",
    "\n",
    "circuit = Circuit()\n",
    "circuit.append(H(qubits[0]))\n",
    "circuit.append(CNOT(qubits[0],qubits[1]))\n",
    "\n",
    "# The parametrized magic\n",
    "rotation = ry(theta)\n",
    "circuit.append(rotation(qubits[0]))\n",
    "\n",
    "circuit.append(measure(*qubits, key='M'))\n",
    "print(circuit)"
   ]
  },
  {
   "cell_type": "markdown",
   "metadata": {},
   "source": [
    "## Fixing parameters\n",
    "\n",
    "We cannot simulate the current circuit, as theta is undefined."
   ]
  },
  {
   "cell_type": "code",
   "execution_count": 13,
   "metadata": {
    "ExecuteTime": {
     "end_time": "2020-02-21T16:15:23.475137Z",
     "start_time": "2020-02-21T16:15:23.431047Z"
    },
    "scrolled": true
   },
   "outputs": [
    {
     "ename": "ValueError",
     "evalue": "Circuit contains ops whose symbols were not specified in parameter sweep. Ops: [cirq.ry(sympy.Symbol('theta')).on(cirq.LineQubit(0))]",
     "output_type": "error",
     "traceback": [
      "\u001b[0;31m---------------------------------------------------------------------------\u001b[0m",
      "\u001b[0;31mValueError\u001b[0m                                Traceback (most recent call last)",
      "\u001b[0;32m<ipython-input-13-2009cae73e63>\u001b[0m in \u001b[0;36m<module>\u001b[0;34m\u001b[0m\n\u001b[0;32m----> 1\u001b[0;31m \u001b[0msimulator\u001b[0m\u001b[0;34m.\u001b[0m\u001b[0mrun\u001b[0m\u001b[0;34m(\u001b[0m\u001b[0mcircuit\u001b[0m\u001b[0;34m,\u001b[0m \u001b[0mrepetitions\u001b[0m\u001b[0;34m=\u001b[0m\u001b[0;36m100\u001b[0m\u001b[0;34m)\u001b[0m\u001b[0;34m\u001b[0m\u001b[0;34m\u001b[0m\u001b[0m\n\u001b[0m",
      "\u001b[0;32m~/.conda/envs/optvqe/lib/python3.7/site-packages/cirq/work/sampler.py\u001b[0m in \u001b[0;36mrun\u001b[0;34m(self, program, param_resolver, repetitions)\u001b[0m\n\u001b[1;32m     48\u001b[0m         \"\"\"\n\u001b[1;32m     49\u001b[0m         return self.run_sweep(program, study.ParamResolver(param_resolver),\n\u001b[0;32m---> 50\u001b[0;31m                               repetitions)[0]\n\u001b[0m\u001b[1;32m     51\u001b[0m \u001b[0;34m\u001b[0m\u001b[0m\n\u001b[1;32m     52\u001b[0m     def sample(\n",
      "\u001b[0;32m~/.conda/envs/optvqe/lib/python3.7/site-packages/cirq/sim/simulator.py\u001b[0m in \u001b[0;36mrun_sweep\u001b[0;34m(self, program, params, repetitions)\u001b[0m\n\u001b[1;32m     85\u001b[0m             measurements = self._run(circuit=program,\n\u001b[1;32m     86\u001b[0m                                      \u001b[0mparam_resolver\u001b[0m\u001b[0;34m=\u001b[0m\u001b[0mparam_resolver\u001b[0m\u001b[0;34m,\u001b[0m\u001b[0;34m\u001b[0m\u001b[0;34m\u001b[0m\u001b[0m\n\u001b[0;32m---> 87\u001b[0;31m                                      repetitions=repetitions)\n\u001b[0m\u001b[1;32m     88\u001b[0m             trial_results.append(\n\u001b[1;32m     89\u001b[0m                 study.TrialResult.from_single_parameter_set(\n",
      "\u001b[0;32m~/.conda/envs/optvqe/lib/python3.7/site-packages/cirq/sim/sparse_simulator.py\u001b[0m in \u001b[0;36m_run\u001b[0;34m(self, circuit, param_resolver, repetitions)\u001b[0m\n\u001b[1;32m    161\u001b[0m         \u001b[0mparam_resolver\u001b[0m \u001b[0;34m=\u001b[0m \u001b[0mparam_resolver\u001b[0m \u001b[0;32mor\u001b[0m \u001b[0mstudy\u001b[0m\u001b[0;34m.\u001b[0m\u001b[0mParamResolver\u001b[0m\u001b[0;34m(\u001b[0m\u001b[0;34m{\u001b[0m\u001b[0;34m}\u001b[0m\u001b[0;34m)\u001b[0m\u001b[0;34m\u001b[0m\u001b[0;34m\u001b[0m\u001b[0m\n\u001b[1;32m    162\u001b[0m         \u001b[0mresolved_circuit\u001b[0m \u001b[0;34m=\u001b[0m \u001b[0mprotocols\u001b[0m\u001b[0;34m.\u001b[0m\u001b[0mresolve_parameters\u001b[0m\u001b[0;34m(\u001b[0m\u001b[0mcircuit\u001b[0m\u001b[0;34m,\u001b[0m \u001b[0mparam_resolver\u001b[0m\u001b[0;34m)\u001b[0m\u001b[0;34m\u001b[0m\u001b[0;34m\u001b[0m\u001b[0m\n\u001b[0;32m--> 163\u001b[0;31m         \u001b[0mself\u001b[0m\u001b[0;34m.\u001b[0m\u001b[0m_check_all_resolved\u001b[0m\u001b[0;34m(\u001b[0m\u001b[0mresolved_circuit\u001b[0m\u001b[0;34m)\u001b[0m\u001b[0;34m\u001b[0m\u001b[0;34m\u001b[0m\u001b[0m\n\u001b[0m\u001b[1;32m    164\u001b[0m \u001b[0;34m\u001b[0m\u001b[0m\n\u001b[1;32m    165\u001b[0m         \u001b[0;32mdef\u001b[0m \u001b[0mmeasure_or_mixture\u001b[0m\u001b[0;34m(\u001b[0m\u001b[0mop\u001b[0m\u001b[0;34m)\u001b[0m\u001b[0;34m:\u001b[0m\u001b[0;34m\u001b[0m\u001b[0;34m\u001b[0m\u001b[0m\n",
      "\u001b[0;32m~/.conda/envs/optvqe/lib/python3.7/site-packages/cirq/sim/sparse_simulator.py\u001b[0m in \u001b[0;36m_check_all_resolved\u001b[0;34m(self, circuit)\u001b[0m\n\u001b[1;32m    375\u001b[0m             raise ValueError(\n\u001b[1;32m    376\u001b[0m                 \u001b[0;34m'Circuit contains ops whose symbols were not specified in '\u001b[0m\u001b[0;34m\u001b[0m\u001b[0;34m\u001b[0m\u001b[0m\n\u001b[0;32m--> 377\u001b[0;31m                 'parameter sweep. Ops: {}'.format(unresolved))\n\u001b[0m\u001b[1;32m    378\u001b[0m \u001b[0;34m\u001b[0m\u001b[0m\n\u001b[1;32m    379\u001b[0m \u001b[0;34m\u001b[0m\u001b[0m\n",
      "\u001b[0;31mValueError\u001b[0m: Circuit contains ops whose symbols were not specified in parameter sweep. Ops: [cirq.ry(sympy.Symbol('theta')).on(cirq.LineQubit(0))]"
     ]
    }
   ],
   "source": [
    "simulator.run(circuit, repetitions=100)"
   ]
  },
  {
   "cell_type": "markdown",
   "metadata": {},
   "source": [
    "The simplest way to specify the angle of the gate at runtime is to first use a cirq.ParamResolver, which generates a circuit we can simulate."
   ]
  },
  {
   "cell_type": "code",
   "execution_count": 14,
   "metadata": {
    "ExecuteTime": {
     "end_time": "2020-02-21T16:15:27.296671Z",
     "start_time": "2020-02-21T16:15:27.270857Z"
    }
   },
   "outputs": [
    {
     "name": "stdout",
     "output_type": "stream",
     "text": [
      "0: ───H───@───Ry(0.5π)───M('M')───\n",
      "          │              │\n",
      "1: ───────X──────────────M────────\n",
      "Counter({1: 31, 2: 24, 0: 23, 3: 22})\n"
     ]
    }
   ],
   "source": [
    "from cirq import ParamResolver, resolve_parameters\n",
    "from numpy import pi\n",
    "resolver = ParamResolver({'theta': pi/2})\n",
    "resolved_circuit = resolve_parameters(circuit, resolver)\n",
    "print(resolved_circuit)\n",
    "result = simulator.run(resolved_circuit, repetitions=100)\n",
    "print(result.histogram(key='M'))"
   ]
  },
  {
   "cell_type": "markdown",
   "metadata": {},
   "source": [
    "With theta set to $\\pi/2$, we are measuring our Bell state in two uncorrelated bases, and we expect the results to be similarly uncorrelated.\n",
    "\n",
    "To make a completely convincing proof, let us study the correlation between our measurements as we rotate $\\theta$. This allows us to introduce two concepts - fold functions, and sweeps.\n",
    "\n",
    "## Fold functions\n",
    "\n",
    "A fold function is a function that takes measurement results from individual runs as input. Fold functions may be added as optional arguments to Result.histogram and Result.multi_measurement_histogram, in which case the output of the fold function is added to the histogram instead of the measurement output.\n",
    "\n",
    "Fold functions must take as input one or many arrays of individual qubit measurements (depending on whether histogram or multi_measurement_histogram is used).\n",
    "\n",
    "Let us write a fold function to measure the correlation between the output of qubit 0 and qubit 1."
   ]
  },
  {
   "cell_type": "code",
   "execution_count": 15,
   "metadata": {
    "ExecuteTime": {
     "end_time": "2020-02-21T16:15:33.306649Z",
     "start_time": "2020-02-21T16:15:33.291766Z"
    }
   },
   "outputs": [
    {
     "name": "stdout",
     "output_type": "stream",
     "text": [
      "Counter({0: 55, 1: 45})\n"
     ]
    }
   ],
   "source": [
    "def correlation_function(measurement):\n",
    "    # The following returns 1 when measurement[0] == measurement[1]\n",
    "    return 1 - measurement[0] ^ measurement[1]\n",
    "print(result.histogram(key='M', fold_func=correlation_function))"
   ]
  },
  {
   "cell_type": "markdown",
   "metadata": {},
   "source": [
    "## Sweeps\n",
    "\n",
    "A sweep is simply an iteration over a set of parameters (in the same way that one would run a for loop in classical code). This may be implemented via cirq's Linspace class, which creates an equally spaced grid of parameter values for resolution in the simulator.run_sweep function."
   ]
  },
  {
   "cell_type": "code",
   "execution_count": 16,
   "metadata": {
    "ExecuteTime": {
     "end_time": "2020-02-21T16:23:02.905078Z",
     "start_time": "2020-02-21T16:22:51.893060Z"
    },
    "scrolled": false
   },
   "outputs": [
    {
     "data": {
      "text/plain": [
       "<matplotlib.legend.Legend at 0x7fc2a6ab5278>"
      ]
     },
     "execution_count": 16,
     "metadata": {},
     "output_type": "execute_result"
    },
    {
     "data": {
      "image/png": "[encoded data removed]",
      "text/plain": [
       "<Figure size 792x504 with 1 Axes>"
      ]
     },
     "metadata": {
      "needs_background": "light"
     },
     "output_type": "display_data"
    }
   ],
   "source": [
    "from cirq import Linspace\n",
    "sweep = Linspace(key='theta', start=0, stop=2*pi, length=1000)\n",
    "results = simulator.run_sweep(circuit, params=sweep, repetitions=1000)  # Note that we pass the unresolved circuit!\n",
    "\n",
    "#Extract correlations using the fold function\n",
    "correlations = [result.histogram(key='M', fold_func=correlation_function)[1] for result in results]\n",
    "\n",
    "# Let's plot the results\n",
    "from matplotlib import pyplot as plt\n",
    "from numpy import linspace, cos\n",
    "%matplotlib inline\n",
    "\n",
    "plt.figure(figsize=(11,7))\n",
    "x_values = linspace(0,2*pi,1000)\n",
    "plt.plot(x_values, correlations, label='Results from 1000 measurements')\n",
    "plt.xlabel('Angle between measurement bases', fontsize=14)\n",
    "plt.ylabel('Number of correlated measurements observed', fontsize=14)\n",
    "plt.plot(x_values, 500 * (cos(x_values) + 1), '--', label='Expected average')\n",
    "plt.legend(fontsize=14)"
   ]
  },
  {
   "cell_type": "markdown",
   "metadata": {},
   "source": [
    "We see that the resulting curve has quite some sampling noise, but it follows the expected value.\n",
    "\n",
    "**Exercise 4:** extend the above experiment to demonstrate that if qubit 0 is rotated by $R_y(\\theta_0)$ and qubit 1 is rotated by $R_y(\\theta_1)$ prior to measurement, the correlation between measurements is independent of $\\theta_0+\\theta_1$."
   ]
  },
  {
   "cell_type": "code",
   "execution_count": 17,
   "metadata": {
    "ExecuteTime": {
     "end_time": "2020-02-21T16:45:45.161424Z",
     "start_time": "2020-02-21T16:45:45.136054Z"
    }
   },
   "outputs": [
    {
     "name": "stdout",
     "output_type": "stream",
     "text": [
      "0: ───H───@───Ry(theta0)───M('M')───\n",
      "          │                │\n",
      "1: ───────X───Ry(theta1)───M────────\n"
     ]
    }
   ],
   "source": [
    "from sympy import Symbol\n",
    "from cirq import ry\n",
    "thetas = [Symbol('theta0'), Symbol('theta1')]\n",
    "circuit = Circuit()\n",
    "circuit.append(H(qubits[0]))\n",
    "circuit.append(CNOT(qubits[0],qubits[1]))\n",
    "\n",
    "# The parametrized magic\n",
    "rotation = ry(theta)\n",
    "circuit.append(ry(thetas[0]).on(qubits[0]))\n",
    "circuit.append(ry(thetas[1]).on(qubits[1]))\n",
    "\n",
    "circuit.append(measure(*qubits, key='M'))\n",
    "print(circuit)"
   ]
  },
  {
   "cell_type": "code",
   "execution_count": 18,
   "metadata": {
    "ExecuteTime": {
     "end_time": "2020-02-21T16:50:14.911421Z",
     "start_time": "2020-02-21T16:49:43.734884Z"
    }
   },
   "outputs": [],
   "source": [
    "from cirq import Linspace\n",
    "sweep = (Linspace(key='theta0', start=0, stop=2*pi, length=100)* \n",
    "         Linspace(key='theta1', start=-1*pi, stop=1*pi, length=100))\n",
    "results = simulator.run_sweep(circuit, params=sweep, repetitions=100)  # Note that we pass the unresolved circuit!\n",
    "\n",
    "#Extract correlations using the fold function\n",
    "correlations = [result.histogram(key='M', fold_func=correlation_function)[1] for result in results]"
   ]
  },
  {
   "cell_type": "markdown",
   "metadata": {},
   "source": [
    "### Let's make a 2D plot"
   ]
  },
  {
   "cell_type": "code",
   "execution_count": 19,
   "metadata": {
    "ExecuteTime": {
     "end_time": "2020-02-21T16:50:34.566283Z",
     "start_time": "2020-02-21T16:50:34.202234Z"
    }
   },
   "outputs": [
    {
     "name": "stderr",
     "output_type": "stream",
     "text": [
      "No handles with labels found to put in legend.\n"
     ]
    },
    {
     "data": {
      "text/plain": [
       "<matplotlib.legend.Legend at 0x7fc2a6b28278>"
      ]
     },
     "execution_count": 19,
     "metadata": {},
     "output_type": "execute_result"
    },
    {
     "data": {
      "image/png": "[encoded data removed]",
      "text/plain": [
       "<Figure size 792x504 with 1 Axes>"
      ]
     },
     "metadata": {
      "needs_background": "light"
     },
     "output_type": "display_data"
    }
   ],
   "source": [
    "# Let's plot the results\n",
    "from matplotlib import pyplot as plt\n",
    "from numpy import linspace, cos\n",
    "import numpy\n",
    "%matplotlib inline\n",
    "\n",
    "plt.figure(figsize=(11,7))\n",
    "x_values = linspace(0,2*pi,100)\n",
    "plt.imshow(numpy.array(correlations).reshape(100, 100), label='Results from 100 measurements')\n",
    "plt.xlabel('Theta 0', fontsize=14)\n",
    "plt.ylabel('Theta 1', fontsize=14)\n",
    "plt.legend(fontsize=14)"
   ]
  },
  {
   "cell_type": "markdown",
   "metadata": {},
   "source": [
    "# Quantum teleportation\n",
    "One of the most famous quantum effects is that of teleportation, where the state from one qubit may be transmitted to the state of another qubit non-locally. Details of this may be found on Wikipedia, or in Nielsen and Chuang.\n",
    "\n",
    "To begin, we need to prepare a Bell state on two qubits, and prepare a state to be teleported.\n",
    "\n",
    "**Exercise 5:** Create a three-qubit circuit on a linear array that performs an arbitrary $R_y(\\theta)$ rotation on qubit 0, and that prepares a Bell state on qubits 1 and 2."
   ]
  },
  {
   "cell_type": "code",
   "execution_count": 47,
   "metadata": {
    "ExecuteTime": {
     "end_time": "2020-02-21T15:59:21.138093Z",
     "start_time": "2020-02-21T15:59:21.025Z"
    }
   },
   "outputs": [
    {
     "name": "stdout",
     "output_type": "stream",
     "text": [
      "0: ───Ry(theta)───────\n",
      "\n",
      "1: ───H───────────@───\n",
      "                  │\n",
      "2: ───────────────X───\n"
     ]
    }
   ],
   "source": [
    "qubits = [LineQubit(i) for i in range(3)]\n",
    "theta = Symbol('theta')\n",
    "circuit = Circuit()\n",
    "circuit.append(ry(theta).on(qubits[0]))\n",
    "\n",
    "circuit.append(H(qubits[1]))\n",
    "circuit.append(CNOT(qubits[1],qubits[2]))\n",
    "\n",
    "print(circuit)"
   ]
  },
  {
   "cell_type": "markdown",
   "metadata": {},
   "source": [
    "The teleportation circuit requires entangling qubit 0 and 1 via a CNOT gate, then reading qubit 0 in the X basis and qubit 1 in the Z basis.\n",
    "\n",
    "**Exercise 6:** Add the above circuitry to your quantum circuit (this requires four operations total)."
   ]
  },
  {
   "cell_type": "code",
   "execution_count": 48,
   "metadata": {
    "ExecuteTime": {
     "end_time": "2020-02-21T15:59:21.139924Z",
     "start_time": "2020-02-21T15:59:21.033Z"
    }
   },
   "outputs": [
    {
     "name": "stdout",
     "output_type": "stream",
     "text": [
      "0: ───Ry(theta)───────@───H───\n",
      "                      │\n",
      "1: ───H───────────@───X───────\n",
      "                  │\n",
      "2: ───────────────X───────────\n"
     ]
    }
   ],
   "source": [
    "### Insert your code here!\n",
    "circuit.append(CNOT(qubits[0], qubits[1]))\n",
    "circuit.append(H(qubits[0]))\n",
    "#circuit.append(measure(*qubits[0:2], key='M'))\n",
    "\n",
    "print(circuit)"
   ]
  },
  {
   "cell_type": "markdown",
   "metadata": {},
   "source": [
    "The final part of the teleportation circuit requires performing single qubit rotations on qubit 2, depending on the output of the two measurements. To implement this, we need to use controlled gates - gates that are implemented or not depending on the result of prior measurements. These are called using the Gate.controlled construction.\n",
    "\n",
    "(Note that these gates are controlled by the post-measurement state of the qubits, and not the measurement result. In your circuit these should be the same, but be careful!)"
   ]
  },
  {
   "cell_type": "code",
   "execution_count": 49,
   "metadata": {
    "ExecuteTime": {
     "end_time": "2020-02-21T15:59:21.141789Z",
     "start_time": "2020-02-21T15:59:21.039Z"
    }
   },
   "outputs": [
    {
     "name": "stdout",
     "output_type": "stream",
     "text": [
      "0: ───Ry(theta)───────@───H───@───\n",
      "                      │       │\n",
      "1: ───H───────────@───X───@───┼───\n",
      "                  │       │   │\n",
      "2: ───────────────X───────X───@───\n"
     ]
    }
   ],
   "source": [
    "from cirq import X, Z\n",
    "controlledX = X.controlled(1)\n",
    "controlledZ = Z.controlled(1)\n",
    "circuit.append(controlledX(qubits[1],qubits[2]))\n",
    "circuit.append(controlledZ(qubits[0],qubits[2]))\n",
    "print(circuit)"
   ]
  },
  {
   "cell_type": "markdown",
   "metadata": {},
   "source": [
    "To test the teleportation, let us check the result of measuring qubit 2 in the Z basis as we change the prepared state by altering the angle $\\theta$.\n",
    "\n",
    "**Exercise 7:** Add a measurement of qubit 2 in the Z basis, and plot the result of these measurements as you sweep over $\\theta$. (Note that you do not need to write a fold function to extract the histogram results.)"
   ]
  },
  {
   "cell_type": "code",
   "execution_count": 50,
   "metadata": {
    "ExecuteTime": {
     "end_time": "2020-02-21T15:59:21.143535Z",
     "start_time": "2020-02-21T15:59:21.045Z"
    }
   },
   "outputs": [
    {
     "name": "stdout",
     "output_type": "stream",
     "text": [
      "0: ───Ry(theta)───────@───H───@─────────────\n",
      "                      │       │\n",
      "1: ───H───────────@───X───@───┼─────────────\n",
      "                  │       │   │\n",
      "2: ───────────────X───────X───@───M('M2')───\n"
     ]
    }
   ],
   "source": [
    "### Insert your code here!\n",
    "circuit.append(measure(qubits[2], key='M2'))\n",
    "print(circuit)"
   ]
  },
  {
   "cell_type": "code",
   "execution_count": 61,
   "metadata": {},
   "outputs": [],
   "source": [
    "sweep = Linspace(key='theta', start=0, stop=2*pi, length=100)\n",
    "results = simulator.run_sweep(circuit, params=sweep, repetitions=1000)"
   ]
  },
  {
   "cell_type": "code",
   "execution_count": 62,
   "metadata": {},
   "outputs": [],
   "source": [
    "count0 = []\n",
    "count1 = []\n",
    "for result in results:\n",
    "    count0 += [result.histogram(key='M2')[0]]\n",
    "    count1 += [result.histogram(key='M2')[1]]"
   ]
  },
  {
   "cell_type": "code",
   "execution_count": 63,
   "metadata": {},
   "outputs": [
    {
     "data": {
      "text/plain": [
       "<matplotlib.legend.Legend at 0x7fc2a3aebc88>"
      ]
     },
     "execution_count": 63,
     "metadata": {},
     "output_type": "execute_result"
    },
    {
     "data": {
      "image/png": "[encoded data removed]",
      "text/plain": [
       "<Figure size 792x504 with 1 Axes>"
      ]
     },
     "metadata": {
      "needs_background": "light"
     },
     "output_type": "display_data"
    }
   ],
   "source": [
    "plt.figure(figsize=(11,7))\n",
    "x_values = linspace(0,2*pi,100)\n",
    "plt.plot(x_values, count0, label='Number of 0 output')\n",
    "plt.plot(x_values, count1, label='Number of 1 output')\n",
    "plt.xlabel('Angle', fontsize=14)\n",
    "plt.ylabel('Counts', fontsize=14)\n",
    "plt.legend(fontsize=14, frameon=False)"
   ]
  },
  {
   "cell_type": "code",
   "execution_count": null,
   "metadata": {},
   "outputs": [],
   "source": []
  }
 ],
 "metadata": {
  "kernelspec": {
   "display_name": "Python 3",
   "language": "python",
   "name": "python3"
  },
  "language_info": {
   "codemirror_mode": {
    "name": "ipython",
    "version": 3
   },
   "file_extension": ".py",
   "mimetype": "text/x-python",
   "name": "python",
   "nbconvert_exporter": "python",
   "pygments_lexer": "ipython3",
   "version": "3.7.3"
  },
  "varInspector": {
   "cols": {
    "lenName": 16,
    "lenType": 16,
    "lenVar": 40
   },
   "kernels_config": {
    "python": {
     "delete_cmd_postfix": "",
     "delete_cmd_prefix": "del ",
     "library": "var_list.py",
     "varRefreshCmd": "print(var_dic_list())"
    },
    "r": {
     "delete_cmd_postfix": ") ",
     "delete_cmd_prefix": "rm(",
     "library": "var_list.r",
     "varRefreshCmd": "cat(var_dic_list()) "
    }
   },
   "types_to_exclude": [
    "module",
    "function",
    "builtin_function_or_method",
    "instance",
    "_Feature"
   ],
   "window_display": false
  }
 },
 "nbformat": 4,
 "nbformat_minor": 2
}
